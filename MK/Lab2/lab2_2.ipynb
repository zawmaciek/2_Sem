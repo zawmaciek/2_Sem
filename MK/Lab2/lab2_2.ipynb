{
 "cells": [
  {
   "cell_type": "markdown",
   "id": "bbd1928c-72dc-4b16-b739-2842c90689f4",
   "metadata": {},
   "source": [
    "## Implementacja \"od zera\" (użycie numpy)"
   ]
  },
  {
   "cell_type": "code",
   "execution_count": 508,
   "id": "45f37b0c-4d18-497e-a70e-9ce5f82a4214",
   "metadata": {},
   "outputs": [],
   "source": [
    "import numpy as np\n",
    "import random"
   ]
  },
  {
   "cell_type": "markdown",
   "id": "66ed75d1-6afd-471d-af83-671f7e3f1833",
   "metadata": {},
   "source": [
    "## Architektura"
   ]
  },
  {
   "cell_type": "code",
   "execution_count": 509,
   "id": "acaaadaf-d0ee-43f8-b79f-3e82d447478c",
   "metadata": {},
   "outputs": [],
   "source": [
    "nn_architecture = [\n",
    "{\"input_dim\": 2, \"output_dim\": 2, \"activation\": \"relu\"},\n",
    "{\"input_dim\": 2, \"output_dim\": 1, \"activation\": \"tanh\"}\n",
    "]"
   ]
  },
  {
   "cell_type": "code",
   "execution_count": 510,
   "id": "03051cf7-0c3a-4692-8ce8-06413bd443d7",
   "metadata": {},
   "outputs": [],
   "source": [
    "def init_layers(nn_architecture, seed = random.randint(0,99)):\n",
    "    np.random.seed(seed)\n",
    "    params_values = {}\n",
    "\n",
    "    for idx, layer in enumerate(nn_architecture):\n",
    "        layer_idx = idx\n",
    "        layer_input_size = layer[\"input_dim\"]\n",
    "        layer_output_size = layer[\"output_dim\"]\n",
    "        params_values['W' + str(layer_idx)] = np.random.randn(\n",
    "            layer_output_size, layer_input_size) * 0.1\n",
    "        params_values['b' + str(layer_idx)] = np.random.randn(\n",
    "            layer_output_size, 1) * 0.1\n",
    "        \n",
    "    return params_values"
   ]
  },
  {
   "cell_type": "markdown",
   "id": "513503b9-72e4-4396-b517-e0053d7f44d2",
   "metadata": {},
   "source": [
    "## Activation functions"
   ]
  },
  {
   "cell_type": "code",
   "execution_count": 511,
   "id": "6b93536a-234c-46ee-a2c2-f69de84edd2c",
   "metadata": {},
   "outputs": [],
   "source": [
    "def relu(Z):\n",
    "    return np.maximum(0,Z)\n",
    "def tanh(Z):\n",
    "    return np.tanh(Z)\n",
    "    return dA * sig * (1 - sig)\n",
    "def tanh_backward(dA, Z):\n",
    "    sech_Z = 1 / np.cosh(Z)**2\n",
    "    dZ = dA * sech_Z\n",
    "    return dZ\n",
    "def relu_backward(dA, Z):\n",
    "    dZ = np.array(dA, copy = True)\n",
    "    dZ[Z <= 0] = 0;\n",
    "    return dZ;"
   ]
  },
  {
   "cell_type": "markdown",
   "id": "9e6f27bd-1c6f-4f37-a1fb-673f0de73fa2",
   "metadata": {},
   "source": [
    "## Forward propagation"
   ]
  },
  {
   "cell_type": "code",
   "execution_count": 512,
   "id": "028eceb0-23a9-44c9-bc5f-b7929948ad69",
   "metadata": {},
   "outputs": [],
   "source": [
    "def single_layer_forward_propagation(A_prev, W_curr, b_curr, activation=\"relu\"):\n",
    "    Z_curr = np.dot(W_curr, A_prev) + b_curr\n",
    "    if activation == \"relu\":\n",
    "        activation_func = relu\n",
    "    elif activation == \"tanh\":\n",
    "        activation_func = tanh\n",
    "    else:\n",
    "        raise Exception('Non-supported activation function')\n",
    "    return activation_func(Z_curr), Z_curr"
   ]
  },
  {
   "cell_type": "code",
   "execution_count": 513,
   "id": "a07d1dbd-f758-45f1-be97-df0506731d51",
   "metadata": {},
   "outputs": [],
   "source": [
    "def full_forward_propagation(X, params_values, nn_architecture):\n",
    "    memory = {}\n",
    "    A_curr = X\n",
    "    for idx, layer in enumerate(nn_architecture):\n",
    "        layer_idx = idx\n",
    "        A_prev = A_curr\n",
    "        activ_function_curr = layer[\"activation\"]\n",
    "        W_curr = params_values[\"W\" + str(layer_idx)]\n",
    "        b_curr = params_values[\"b\" + str(layer_idx)]\n",
    "        A_curr, Z_curr = single_layer_forward_propagation(A_prev, W_curr, b_curr, activ_function_curr)\n",
    "        \n",
    "        memory[\"A\" + str(idx)] = A_prev\n",
    "        memory[\"Z\" + str(layer_idx)] = Z_curr\n",
    "       \n",
    "    return A_curr, memory"
   ]
  },
  {
   "cell_type": "markdown",
   "id": "df4d43e1-e449-4c75-8fc6-17d0ac91609a",
   "metadata": {},
   "source": [
    "# Loss function (binary cross-entropy)"
   ]
  },
  {
   "cell_type": "code",
   "execution_count": 514,
   "id": "3ac15903-ee1b-4dd0-8a4e-8ef9e52c998d",
   "metadata": {},
   "outputs": [],
   "source": [
    "def get_cost_value(Y_hat, Y):\n",
    "    m = 1\n",
    "    cost = -1 / m * (np.dot(Y, np.log(Y_hat).T) + np.dot(1 - Y, np.log(1 - Y_hat).T))\n",
    "    return np.squeeze(cost)\n",
    "\n",
    "# an auxiliary function that converts probability into class\n",
    "def convert_prob_into_class(probs):\n",
    "    probs_ = np.copy(probs)\n",
    "    probs_[probs_ > 0.5] = 1\n",
    "    probs_[probs_ <= 0.5] = 0\n",
    "    return probs_\n",
    "\n",
    "def get_accuracy_value(Y_hat, Y):\n",
    "    Y_hat_ = convert_prob_into_class(Y_hat)\n",
    "    return (Y_hat_ == Y).all(axis=0).mean()"
   ]
  },
  {
   "cell_type": "markdown",
   "id": "0644be20-d294-494e-a08f-9ea6a4746686",
   "metadata": {},
   "source": [
    "## Backward propagation\n",
    "\n",
    "$$\\boldsymbol{dW}^{[l]} = \\frac{\\partial L }{\\partial \\boldsymbol{W}^{[l]}} = \\frac{1}{m} \\boldsymbol{dZ}^{[l]} \\boldsymbol{A}^{[l-1] T}$$\n",
    "\n",
    "\n",
    "\n",
    "$$\\boldsymbol{db}^{[l]} = \\frac{\\partial L }{\\partial \\boldsymbol{b}^{[l]}} = \\frac{1}{m} \\sum_{i = 1}^{m} \\boldsymbol{dZ}^{[l](i)}$$\n",
    "\n",
    "$$\\boldsymbol{dA}^{[l-1]} = \\frac{\\partial L }{\\partial \\boldsymbol{A}^{[l-1]}} = \\boldsymbol{W}^{[l] T} \\boldsymbol{dZ}^{[l]}$$\n",
    "\n",
    "$$\\boldsymbol{dZ}^{[l]} = \\boldsymbol{dA}^{[l]} * g'(\\boldsymbol{Z}^{[l]})$$"
   ]
  },
  {
   "cell_type": "code",
   "execution_count": 515,
   "id": "93abed44-e7f8-4c3c-a56e-740ce35ade46",
   "metadata": {},
   "outputs": [],
   "source": [
    "def single_layer_backward_propagation(dA_curr, W_curr, b_curr, Z_curr, A_prev, activation=\"relu\"):\n",
    "    m = 1\n",
    "    \n",
    "    if activation == \"relu\":\n",
    "        backward_activation_func = relu_backward\n",
    "    elif activation == \"tanh\":\n",
    "        backward_activation_func = tanh_backward\n",
    "    else:\n",
    "        raise Exception('Non-supported activation function')\n",
    "    \n",
    "    dZ_curr = backward_activation_func(dA_curr, Z_curr)\n",
    "    dW_curr = np.dot(dZ_curr, A_prev.T) / m\n",
    "    db_curr = np.sum(dZ_curr, axis=1, keepdims=True) / m\n",
    "    dA_prev = np.dot(W_curr.T, dZ_curr)\n",
    "\n",
    "    return dA_prev, dW_curr, db_curr"
   ]
  },
  {
   "cell_type": "markdown",
   "id": "e3b54863-7466-4164-ba9f-e1cdb66af3a8",
   "metadata": {},
   "source": [
    "$$\\frac{\\partial L }{\\partial \\boldsymbol{\\hat{Y}}} = -(\\frac{\\boldsymbol{Y}}{\\boldsymbol{\\hat{Y}}}- \\frac{1-\\boldsymbol{Y}}{1-\\boldsymbol{\\hat{Y}}})$$"
   ]
  },
  {
   "cell_type": "code",
   "execution_count": 516,
   "id": "5500af56-ad67-4aa5-beab-4e1e8f659d48",
   "metadata": {},
   "outputs": [],
   "source": [
    "def full_backward_propagation(Y_hat, Y, memory, params_values, nn_architecture):\n",
    "    grads_values = {}\n",
    "    Y = Y.reshape(Y_hat.shape)\n",
    "   \n",
    "    dA_prev = - (np.divide(Y, Y_hat) - np.divide(1 - Y, 1 - Y_hat));\n",
    "    \n",
    "    for layer_idx_prev, layer in reversed(list(enumerate(nn_architecture))[:-1]):\n",
    "        layer_idx_curr = layer_idx_prev + 1\n",
    "        activ_function_curr = layer[\"activation\"]\n",
    "        \n",
    "        dA_curr = dA_prev\n",
    "        \n",
    "        A_prev = memory[\"A\" + str(layer_idx_prev)]\n",
    "        Z_curr = memory[\"Z\" + str(layer_idx_curr)]\n",
    "        W_curr = params_values[\"W\" + str(layer_idx_curr)]\n",
    "        b_curr = params_values[\"b\" + str(layer_idx_curr)]\n",
    "        \n",
    "        dA_prev, dW_curr, db_curr = single_layer_backward_propagation(\n",
    "            dA_curr, W_curr, b_curr, Z_curr, A_prev, activ_function_curr)\n",
    "        \n",
    "        grads_values[\"dW\" + str(layer_idx_curr)] = dW_curr\n",
    "        grads_values[\"db\" + str(layer_idx_curr)] = db_curr\n",
    "    \n",
    "    return grads_values"
   ]
  },
  {
   "cell_type": "markdown",
   "id": "58c1e7fb-b43f-4230-8bb2-4f290160ef68",
   "metadata": {},
   "source": [
    "## Updating the parameters (Gradient descent)"
   ]
  },
  {
   "cell_type": "code",
   "execution_count": 517,
   "id": "e832b1a1-deb1-458f-a891-b52a00eaedf1",
   "metadata": {},
   "outputs": [],
   "source": [
    "def update(params_values, grads_values, nn_architecture, learning_rate):\n",
    "    for layer_idx, layer in enumerate(nn_architecture):\n",
    "        params_values[\"W\" + str(layer_idx)] -= learning_rate * grads_values[\"dW\" + str(layer_idx)]        \n",
    "        params_values[\"b\" + str(layer_idx)] -= learning_rate * grads_values[\"db\" + str(layer_idx)]\n",
    "\n",
    "    return params_values;"
   ]
  },
  {
   "cell_type": "markdown",
   "id": "27e5c01d-798a-470f-b0ee-7815fe1e2c28",
   "metadata": {},
   "source": [
    "## Training (putting things together): Error backpropagation algorithm"
   ]
  },
  {
   "cell_type": "code",
   "execution_count": 518,
   "id": "7493b47d-1c54-46ca-8815-8fe06f3b63d2",
   "metadata": {},
   "outputs": [],
   "source": [
    "def train(X, Y, nn_architecture, epochs, learning_rate):\n",
    "    params_values_history=[]\n",
    "    params_values = init_layers(nn_architecture)\n",
    "    params_values_history.append(params_values)\n",
    "    cost_history = []\n",
    "    accuracy_history = []\n",
    "    \n",
    "    for i in range(epochs):\n",
    "        Y_hat, cashe = full_forward_propagation(X, params_values, nn_architecture)\n",
    "        Y_hat = np.squeeze(np.asarray(Y_hat))\n",
    "        Y = np.squeeze(np.asarray(Y))\n",
    "        cost = get_cost_value(Y_hat, Y)\n",
    "        cost_history.append(cost)\n",
    "        accuracy = get_accuracy_value(Y_hat, Y)\n",
    "        accuracy_history.append(accuracy)\n",
    "        \n",
    "        grads_values = full_backward_propagation(Y_hat, Y, cashe, params_values, nn_architecture)\n",
    "        params_values = update(params_values, grads_values, nn_architecture, learning_rate)    \n",
    "        params_values_history.append(params_values)\n",
    "        \n",
    "    return params_values_history, cost_history, accuracy_history"
   ]
  },
  {
   "cell_type": "markdown",
   "id": "a24005fc-0fd2-47c5-9600-a1f2e7464c56",
   "metadata": {},
   "source": [
    "## Example"
   ]
  },
  {
   "cell_type": "code",
   "execution_count": 519,
   "id": "00be5a77-c9a6-4c93-b1ad-a6a38ba955de",
   "metadata": {},
   "outputs": [],
   "source": [
    "x = np.array([[1,2],[3,4]])\n",
    "y = np.array([[3],[4]])\n",
    "#y = np.squeeze(np.asarray(y))"
   ]
  }
 ],
 "metadata": {
  "kernelspec": {
   "display_name": "Python 3",
   "language": "python",
   "name": "python3"
  },
  "language_info": {
   "codemirror_mode": {
    "name": "ipython",
    "version": 3
   },
   "file_extension": ".py",
   "mimetype": "text/x-python",
   "name": "python",
   "nbconvert_exporter": "python",
   "pygments_lexer": "ipython3",
   "version": "3.10.9"
  }
 },
 "nbformat": 4,
 "nbformat_minor": 5
}
