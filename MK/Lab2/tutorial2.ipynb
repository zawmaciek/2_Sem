{
 "cells": [
  {
   "cell_type": "markdown",
   "id": "91a1fa5d-4dfa-44ae-af51-04938e974c01",
   "metadata": {},
   "source": [
    "# Zajęcie 2: Metoda gradientu prostego. Stosowanie do algorytmu wstecznej propagacji błędu"
   ]
  },
  {
   "cell_type": "markdown",
   "id": "23909b80-3da4-4415-880f-e6755e20d234",
   "metadata": {},
   "source": [
    "https://towardsdatascience.com/lets-code-a-neural-network-in-plain-numpy-ae7e74410795\n",
    "https://github.com/SkalskiP/ILearnDeepLearning.py/blob/master/01_mysteries_of_neural_networks/03_numpy_neural_net/Numpy%20deep%20neural%20network.ipynb"
   ]
  },
  {
   "cell_type": "markdown",
   "id": "e930f433-27e8-4496-aefe-39ecbd7992ff",
   "metadata": {},
   "source": [
    "## Wizualizacja metody gradientu z użyciem tensorflow"
   ]
  },
  {
   "cell_type": "markdown",
   "id": "0e6cfd2c-3b1f-4dd9-bd79-52a348567f96",
   "metadata": {},
   "source": [
    "### Auxiliary function"
   ]
  },
  {
   "cell_type": "code",
   "execution_count": 1,
   "id": "ff1eaf38-dc1a-4d15-90a5-5ed5f667060d",
   "metadata": {},
   "outputs": [],
   "source": [
    "# precede the number with zeros, creating a thong of a certain length\n",
    "def makeIndexOfLength(index, length):\n",
    "    indexStr = str(index)\n",
    "    return ('0' * (length - len(indexStr)) + indexStr)"
   ]
  },
  {
   "cell_type": "markdown",
   "id": "dd9992ca-c141-4f77-b362-442fa121628c",
   "metadata": {},
   "source": [
    "### Imports"
   ]
  },
  {
   "cell_type": "code",
   "execution_count": 2,
   "id": "2e161f20-e893-4297-a081-d0eccc73bf10",
   "metadata": {},
   "outputs": [],
   "source": [
    "import tensorflow as tf\n",
    "import numpy as np\n",
    "import matplotlib.pyplot as plt\n",
    "from mpl_toolkits.mplot3d import Axes3D"
   ]
  },
  {
   "cell_type": "markdown",
   "id": "dbae738d-d37b-4c6e-9866-7aaf5661475b",
   "metadata": {},
   "source": [
    "### Example 1"
   ]
  },
  {
   "cell_type": "code",
   "execution_count": null,
   "id": "bb2d70c3-8bc9-47d8-a99e-ecbc77b09886",
   "metadata": {},
   "outputs": [],
   "source": [
    "x = tf.Variable(2.0)\n",
    "y = tf.Variable(5.0)\n",
    "target_fn = lambda x,y: 3 * x * x+ 2 * y * y\n",
    "sgd = tf.keras.optimizers.SGD(0.1)"
   ]
  },
  {
   "cell_type": "code",
   "execution_count": null,
   "id": "74484a07-07d1-4cf7-8874-7b11aca6dfbb",
   "metadata": {},
   "outputs": [],
   "source": [
    "\"\"\" derivative_tar_on_x = 6x = 12\n",
    "    derivetive_tar_on_y = 4y = 20 \"\"\"\n",
    "with tf.GradientTape(persistent=True) as g:\n",
    "    g.watch(x)\n",
    "    g.watch(y)\n",
    "    t= target_fn(x,y)\n",
    "    gradients = g.gradient(t, sources=[x, y])\n",
    "    print(gradients) # 12, 20"
   ]
  },
  {
   "cell_type": "code",
   "execution_count": null,
   "id": "15b02843-ba83-4fbf-80cd-2535ba657d35",
   "metadata": {},
   "outputs": [],
   "source": [
    "sgd.apply_gradients(zip(gradients, [x, y]))\n",
    "print(x) # 2 - 0.1 * 12 = 0.8\n",
    "print(y) # 5 - 0.1 * 20 = 3.0"
   ]
  },
  {
   "cell_type": "code",
   "execution_count": null,
   "id": "6d55249a-3ad5-4770-8151-2db9ca62d542",
   "metadata": {},
   "outputs": [],
   "source": [
    "while abs(target_fn(x,y) - 0) >= 0.01:\n",
    "     with tf.GradientTape(persistent=True) as tp:\n",
    "            t= target_fn(x,y)\n",
    "            gradients = g.gradient(t, sources=[x, y])\n",
    "            n = sgd.minimize(target_fn(x,y), var_list=[x, y],tape=tp)"
   ]
  },
  {
   "cell_type": "code",
   "execution_count": null,
   "id": "8c6ea6fc-d689-4df0-a653-7777ca55c78e",
   "metadata": {},
   "outputs": [],
   "source": [
    "# 3D cost figure\n",
    "for angle in range(0, 180):\n",
    "    plt.style.use('dark_background')\n",
    "    fig = plt.figure(figsize=(8,8))\n",
    "    ax = Axes3D(fig)\n",
    "    x3D, y3D = np.meshgrid(np.linspace(-1, 1, 100), np.linspace(-1, 1, 100))  # parameter space\n",
    "    cost3D = np.array([np.mean(np.square(target_fn(x_,y_) - y)) for x_, y_ in zip(x3D.flatten(), y3D.flatten())]).reshape(x3D.shape)\n",
    "    ax.plot_surface(x3D, y3D, cost3D, rstride=1, cstride=1, cmap=plt.get_cmap('rainbow'), alpha=0.6)\n",
    "    ax.scatter(x_list[0], y_list[0], zs=cost_list[0], s=300, c='r')  # initial parameter place\n",
    "    ax.set_xlabel('x'); ax.set_ylabel('y')\n",
    "    ax.plot(a_list[:angle], b_list[:angle], zs=cost_list[:angle], zdir='z', c='r', lw=3)    # plot 3D gradient descent\n",
    "    ax.view_init(30 + (90 - angle)/5, 45 + angle*2)\n",
    "    plt.savefig(\"./\" + OUTPUT_DIR + \"/\" + makeIndexOfLength(angle, 3) + \".png\")\n",
    "    plt.close()"
   ]
  },
  {
   "cell_type": "markdown",
   "id": "d8fba0cf-b19b-4ef0-a8e8-2d37749aed2c",
   "metadata": {},
   "source": [
    "### Example 2"
   ]
  },
  {
   "cell_type": "markdown",
   "id": "ca128ea3-b76b-41f9-a458-97fce0a1dbf1",
   "metadata": {},
   "source": [
    "### Settings"
   ]
  },
  {
   "cell_type": "code",
   "execution_count": null,
   "id": "1c3e1973-4ff9-4ee9-9400-b29269ab732b",
   "metadata": {},
   "outputs": [],
   "source": [
    "# learning rate\n",
    "LR = 0.04\n",
    "# parameters a and b of the real function\n",
    "REAL_PARAMS = [1.2, 2.5]\n",
    "# starting point for gradient descent\n",
    "INIT_PARAMS = [-1, -1.5]\n",
    "# output directory (the folder must be created on the drive)\n",
    "OUTPUT_DIR = \"gradient_descent\""
   ]
  },
  {
   "cell_type": "markdown",
   "id": "73fc14f4-f152-4e02-b835-7dfd897484b5",
   "metadata": {},
   "source": [
    "### Performing the simulation"
   ]
  },
  {
   "cell_type": "code",
   "execution_count": null,
   "id": "90cba745-f7c3-4455-8cad-c50a5d3bd1c4",
   "metadata": {},
   "outputs": [],
   "source": [
    "#x_ = np.linspace(-1, 1, 200, dtype=np.float32)\n",
    "x_ = [-1,1]\n",
    "x = [tf.Variable(initial_value=p, dtype=tf.float32) for p in x_]\n",
    "\n",
    "y_fun = lambda: np.sin(b*np.cos(a*x))\n",
    "tf_y_fun = lambda: tf.sin(b*tf.cos(a*x))\n",
    "\n",
    "#noise = np.random.randn(200)/10\n",
    "noise = np.random.randn(2)/10\n",
    "#y = y_fun(*REAL_PARAMS) + noise\n",
    "y = y_fun() + noise\n",
    "\n",
    "# tensorflow graph\n",
    "a, b = [tf.Variable(initial_value=p, dtype=tf.float32) for p in INIT_PARAMS]\n",
    "pred = tf_y_fun()\n",
    "mse = tf.reduce_mean(tf.square(y-pred))\n",
    "#train_op = tf.train.GradientDescentOptimizer(LR).minimize(mse)\n",
    "\n",
    "with tf.GradientTape() as g:\n",
    "    g.watch(a)\n",
    "    g.watch(b)\n",
    "    t= y_fun()\n",
    "    gradients = g.gradient(t, sources=[a,b])\n",
    "\n",
    "optimizer = tf.optimizers.SGD(LR)\n",
    "\n",
    "train_op = optimizer.minimize(loss=mse,var_list=[a,b])\n",
    "\n",
    "\n",
    "a_list, b_list, cost_list = [], [], []\n",
    "with tf.Session() as sess:\n",
    "    sess.run(tf.global_variables_initializer())\n",
    "    for s in range(180):\n",
    "        a_, b_, mse_ = sess.run([a, b, mse])\n",
    "        a_list.append(a_); b_list.append(b_); cost_list.append(mse_)\n",
    "        result, _ = sess.run([pred, train_op])                          "
   ]
  },
  {
   "cell_type": "code",
   "execution_count": null,
   "id": "a7f9d0cf-b18b-4daa-b410-75364db90be1",
   "metadata": {},
   "outputs": [],
   "source": [
    "x"
   ]
  },
  {
   "cell_type": "markdown",
   "id": "36dcb180-8b25-4e5a-9f56-3e2bc0c52179",
   "metadata": {},
   "source": [
    "###  Creates visualization"
   ]
  },
  {
   "cell_type": "code",
   "execution_count": null,
   "id": "caf03d6c-a501-41f7-8da9-c9138b461304",
   "metadata": {},
   "outputs": [],
   "source": [
    "# 3D cost figure\n",
    "for angle in range(0, 180):\n",
    "    plt.style.use('dark_background')\n",
    "    fig = plt.figure(figsize=(8,8))\n",
    "    ax = Axes3D(fig)\n",
    "    a3D, b3D = np.meshgrid(np.linspace(-5, 5, 100), np.linspace(-5, 5, 100))  # parameter space\n",
    "    cost3D = np.array([np.mean(np.square(y_fun(a_, b_) - y)) for a_, b_ in zip(a3D.flatten(), b3D.flatten())]).reshape(a3D.shape)\n",
    "    ax.plot_surface(a3D, b3D, cost3D, rstride=1, cstride=1, cmap=plt.get_cmap('rainbow'), alpha=0.6)\n",
    "    ax.scatter(a_list[0], b_list[0], zs=cost_list[0], s=300, c='r')  # initial parameter place\n",
    "    ax.set_xlabel('a'); ax.set_ylabel('b')\n",
    "    ax.plot(a_list[:angle], b_list[:angle], zs=cost_list[:angle], zdir='z', c='r', lw=3)    # plot 3D gradient descent\n",
    "    ax.view_init(30 + (90 - angle)/5, 45 + angle*2)\n",
    "    plt.savefig(\"./\" + OUTPUT_DIR + \"/\" + makeIndexOfLength(angle, 3) + \".png\")\n",
    "    plt.close()"
   ]
  },
  {
   "cell_type": "markdown",
   "id": "3ba72c64-840d-42ef-9b72-77084700ec3c",
   "metadata": {},
   "source": [
    "### Expected results"
   ]
  },
  {
   "cell_type": "markdown",
   "id": "a3f87d5f-c328-4580-8422-def17d1c5dba",
   "metadata": {},
   "source": [
    "Go to OUTPUT_DIR, which should now be filled with subsequent keyframes of our animation. All the resulting images look more or less like this."
   ]
  },
  {
   "cell_type": "markdown",
   "id": "ba12190f-e42e-41b4-996e-cd09fba72f74",
   "metadata": {},
   "source": [
    "<img src=\"./final_visualisations/frames.png\" alt=\"All frames\">"
   ]
  },
  {
   "cell_type": "markdown",
   "id": "9b76bd21-467b-4a99-a6f2-68d68b839b91",
   "metadata": {},
   "source": [
    "Now all you need to do is enter OUTPUT_DIR and use ImageMagick to create a final gift with one command.\n",
    "\n",
    "```bash\n",
    "convert -delay 10 -loop 0 *.png keras_class_boundaries.gif\n",
    "```"
   ]
  },
  {
   "cell_type": "markdown",
   "id": "146638a4-ae4f-429d-b956-3bd9703fe6ac",
   "metadata": {},
   "source": [
    "<img src=\"./final_visualisations/gradient_descent.gif\" alt=\"Gradient descent\">"
   ]
  },
  {
   "cell_type": "markdown",
   "id": "bbd1928c-72dc-4b16-b739-2842c90689f4",
   "metadata": {},
   "source": [
    "## Implementacja \"od zera\" (użycie numpy)"
   ]
  },
  {
   "cell_type": "code",
   "execution_count": null,
   "id": "45f37b0c-4d18-497e-a70e-9ce5f82a4214",
   "metadata": {},
   "outputs": [],
   "source": [
    "import numpy as np"
   ]
  },
  {
   "cell_type": "markdown",
   "id": "66ed75d1-6afd-471d-af83-671f7e3f1833",
   "metadata": {},
   "source": [
    "## Architektura"
   ]
  },
  {
   "cell_type": "code",
   "execution_count": null,
   "id": "acaaadaf-d0ee-43f8-b79f-3e82d447478c",
   "metadata": {},
   "outputs": [],
   "source": [
    "nn_architecture = [\n",
    "    {\"input_dim\": 2, \"output_dim\": 4, \"activation\": \"relu\"},\n",
    "    {\"input_dim\": 4, \"output_dim\": 6, \"activation\": \"relu\"},\n",
    "    {\"input_dim\": 6, \"output_dim\": 6, \"activation\": \"relu\"},\n",
    "    {\"input_dim\": 6, \"output_dim\": 4, \"activation\": \"relu\"},\n",
    "    {\"input_dim\": 4, \"output_dim\": 1, \"activation\": \"sigmoid\"},\n",
    "]"
   ]
  },
  {
   "cell_type": "code",
   "execution_count": null,
   "id": "03051cf7-0c3a-4692-8ce8-06413bd443d7",
   "metadata": {},
   "outputs": [],
   "source": [
    "def init_layers(nn_architecture, seed = 99):\n",
    "    np.random.seed(seed)\n",
    "    number_of_layers = len(nn_architecture)\n",
    "    params_values = {}\n",
    "\n",
    "    for idx, layer in enumerate(nn_architecture):\n",
    "        layer_idx = idx + 1\n",
    "        print(idx)\n",
    "        print(layer)\n",
    "        layer_input_size = layer[\"input_dim\"]\n",
    "        layer_output_size = layer[\"output_dim\"]\n",
    "        \n",
    "        params_values['W' + str(layer_idx)] = np.random.randn(\n",
    "            layer_output_size, layer_input_size) * 0.1\n",
    "        params_values['b' + str(layer_idx)] = np.random.randn(\n",
    "            layer_output_size, 1) * 0.1\n",
    "        \n",
    "    return params_values"
   ]
  },
  {
   "cell_type": "markdown",
   "id": "513503b9-72e4-4396-b517-e0053d7f44d2",
   "metadata": {},
   "source": [
    "## Activation functions"
   ]
  },
  {
   "cell_type": "code",
   "execution_count": null,
   "id": "6b93536a-234c-46ee-a2c2-f69de84edd2c",
   "metadata": {},
   "outputs": [],
   "source": [
    "def sigmoid(Z):\n",
    "    return 1/(1+np.exp(-Z))\n",
    "\n",
    "def relu(Z):\n",
    "    return np.maximum(0,Z)\n",
    "\n",
    "def sigmoid_backward(dA, Z):\n",
    "    sig = sigmoid(Z)\n",
    "    return dA * sig * (1 - sig)\n",
    "\n",
    "def relu_backward(dA, Z):\n",
    "    dZ = np.array(dA, copy = True)\n",
    "    dZ[Z <= 0] = 0;\n",
    "    return dZ;"
   ]
  },
  {
   "cell_type": "markdown",
   "id": "9e6f27bd-1c6f-4f37-a1fb-673f0de73fa2",
   "metadata": {},
   "source": [
    "## Forward propagation"
   ]
  },
  {
   "cell_type": "code",
   "execution_count": null,
   "id": "028eceb0-23a9-44c9-bc5f-b7929948ad69",
   "metadata": {},
   "outputs": [],
   "source": [
    "def single_layer_forward_propagation(A_prev, W_curr, b_curr, activation=\"relu\"):\n",
    "    print(A_prev.shape)\n",
    "    Z_curr = np.dot(W_curr, A_prev) + b_curr\n",
    "    \n",
    "    if activation == \"relu\":\n",
    "        activation_func = relu\n",
    "    elif activation == \"sigmoid\":\n",
    "        activation_func = sigmoid\n",
    "    else:\n",
    "        raise Exception('Non-supported activation function')\n",
    "        \n",
    "    return activation_func(Z_curr), Z_curr"
   ]
  },
  {
   "cell_type": "code",
   "execution_count": null,
   "id": "a07d1dbd-f758-45f1-be97-df0506731d51",
   "metadata": {},
   "outputs": [],
   "source": [
    "def full_forward_propagation(X, params_values, nn_architecture):\n",
    "    memory = {}\n",
    "    A_curr = X\n",
    "    \n",
    "    for idx, layer in enumerate(nn_architecture):\n",
    "        layer_idx = idx + 1\n",
    "        A_prev = A_curr\n",
    "        \n",
    "        activ_function_curr = layer[\"activation\"]\n",
    "        W_curr = params_values[\"W\" + str(layer_idx)]\n",
    "        b_curr = params_values[\"b\" + str(layer_idx)]\n",
    "        A_curr, Z_curr = single_layer_forward_propagation(A_prev, W_curr, b_curr, activ_function_curr)\n",
    "        \n",
    "        memory[\"A\" + str(idx)] = A_prev\n",
    "        memory[\"Z\" + str(layer_idx)] = Z_curr\n",
    "       \n",
    "    return A_curr, memory"
   ]
  },
  {
   "cell_type": "markdown",
   "id": "df4d43e1-e449-4c75-8fc6-17d0ac91609a",
   "metadata": {},
   "source": [
    "# Loss function (binary cross-entropy)"
   ]
  },
  {
   "cell_type": "code",
   "execution_count": null,
   "id": "3ac15903-ee1b-4dd0-8a4e-8ef9e52c998d",
   "metadata": {},
   "outputs": [],
   "source": [
    "def get_cost_value(Y_hat, Y):\n",
    "    m = Y_hat.shape[1]\n",
    "    cost = -1 / m * (np.dot(Y, np.log(Y_hat).T) + np.dot(1 - Y, np.log(1 - Y_hat).T))\n",
    "    return np.squeeze(cost)\n",
    "\n",
    "# an auxiliary function that converts probability into class\n",
    "def convert_prob_into_class(probs):\n",
    "    probs_ = np.copy(probs)\n",
    "    probs_[probs_ > 0.5] = 1\n",
    "    probs_[probs_ <= 0.5] = 0\n",
    "    return probs_\n",
    "\n",
    "def get_accuracy_value(Y_hat, Y):\n",
    "    Y_hat_ = convert_prob_into_class(Y_hat)\n",
    "    return (Y_hat_ == Y).all(axis=0).mean()"
   ]
  },
  {
   "cell_type": "markdown",
   "id": "0644be20-d294-494e-a08f-9ea6a4746686",
   "metadata": {},
   "source": [
    "## Backward propagation\n",
    "\n",
    "$$\\boldsymbol{dW}^{[l]} = \\frac{\\partial L }{\\partial \\boldsymbol{W}^{[l]}} = \\frac{1}{m} \\boldsymbol{dZ}^{[l]} \\boldsymbol{A}^{[l-1] T}$$\n",
    "\n",
    "\n",
    "\n",
    "$$\\boldsymbol{db}^{[l]} = \\frac{\\partial L }{\\partial \\boldsymbol{b}^{[l]}} = \\frac{1}{m} \\sum_{i = 1}^{m} \\boldsymbol{dZ}^{[l](i)}$$\n",
    "\n",
    "$$\\boldsymbol{dA}^{[l-1]} = \\frac{\\partial L }{\\partial \\boldsymbol{A}^{[l-1]}} = \\boldsymbol{W}^{[l] T} \\boldsymbol{dZ}^{[l]}$$\n",
    "\n",
    "$$\\boldsymbol{dZ}^{[l]} = \\boldsymbol{dA}^{[l]} * g'(\\boldsymbol{Z}^{[l]})$$"
   ]
  },
  {
   "cell_type": "code",
   "execution_count": null,
   "id": "93abed44-e7f8-4c3c-a56e-740ce35ade46",
   "metadata": {},
   "outputs": [],
   "source": [
    "def single_layer_backward_propagation(dA_curr, W_curr, b_curr, Z_curr, A_prev, activation=\"relu\"):\n",
    "    m = A_prev.shape[1]\n",
    "    \n",
    "    if activation == \"relu\":\n",
    "        backward_activation_func = relu_backward\n",
    "    elif activation == \"sigmoid\":\n",
    "        backward_activation_func = sigmoid_backward\n",
    "    else:\n",
    "        raise Exception('Non-supported activation function')\n",
    "    \n",
    "    dZ_curr = backward_activation_func(dA_curr, Z_curr)\n",
    "    dW_curr = np.dot(dZ_curr, A_prev.T) / m\n",
    "    db_curr = np.sum(dZ_curr, axis=1, keepdims=True) / m\n",
    "    dA_prev = np.dot(W_curr.T, dZ_curr)\n",
    "\n",
    "    return dA_prev, dW_curr, db_curr"
   ]
  },
  {
   "cell_type": "markdown",
   "id": "e3b54863-7466-4164-ba9f-e1cdb66af3a8",
   "metadata": {},
   "source": [
    "$$\\frac{\\partial L }{\\partial \\boldsymbol{\\hat{Y}}} = -(\\frac{\\boldsymbol{Y}}{\\boldsymbol{\\hat{Y}}}- \\frac{1-\\boldsymbol{Y}}{1-\\boldsymbol{\\hat{Y}}})$$"
   ]
  },
  {
   "cell_type": "code",
   "execution_count": null,
   "id": "5500af56-ad67-4aa5-beab-4e1e8f659d48",
   "metadata": {},
   "outputs": [],
   "source": [
    "def full_backward_propagation(Y_hat, Y, memory, params_values, nn_architecture):\n",
    "    grads_values = {}\n",
    "    m = Y.shape[1]\n",
    "    Y = Y.reshape(Y_hat.shape)\n",
    "   \n",
    "    dA_prev = - (np.divide(Y, Y_hat) - np.divide(1 - Y, 1 - Y_hat));\n",
    "    \n",
    "    for layer_idx_prev, layer in reversed(list(enumerate(nn_architecture))):\n",
    "        layer_idx_curr = layer_idx_prev + 1\n",
    "        activ_function_curr = layer[\"activation\"]\n",
    "        \n",
    "        dA_curr = dA_prev\n",
    "        \n",
    "        A_prev = memory[\"A\" + str(layer_idx_prev)]\n",
    "        Z_curr = memory[\"Z\" + str(layer_idx_curr)]\n",
    "        W_curr = params_values[\"W\" + str(layer_idx_curr)]\n",
    "        b_curr = params_values[\"b\" + str(layer_idx_curr)]\n",
    "        \n",
    "        dA_prev, dW_curr, db_curr = single_layer_backward_propagation(\n",
    "            dA_curr, W_curr, b_curr, Z_curr, A_prev, activ_function_curr)\n",
    "        \n",
    "        grads_values[\"dW\" + str(layer_idx_curr)] = dW_curr\n",
    "        grads_values[\"db\" + str(layer_idx_curr)] = db_curr\n",
    "    \n",
    "    return grads_values"
   ]
  },
  {
   "cell_type": "markdown",
   "id": "58c1e7fb-b43f-4230-8bb2-4f290160ef68",
   "metadata": {},
   "source": [
    "## Updating the parameters (Gradient descent)"
   ]
  },
  {
   "cell_type": "code",
   "execution_count": null,
   "id": "e832b1a1-deb1-458f-a891-b52a00eaedf1",
   "metadata": {},
   "outputs": [],
   "source": [
    "def update(params_values, grads_values, nn_architecture, learning_rate):\n",
    "    for layer_idx, layer in enumerate(nn_architecture):\n",
    "        params_values[\"W\" + str(layer_idx)] -= learning_rate * grads_values[\"dW\" + str(layer_idx)]        \n",
    "        params_values[\"b\" + str(layer_idx)] -= learning_rate * grads_values[\"db\" + str(layer_idx)]\n",
    "\n",
    "    return params_values;"
   ]
  },
  {
   "cell_type": "markdown",
   "id": "27e5c01d-798a-470f-b0ee-7815fe1e2c28",
   "metadata": {},
   "source": [
    "## Training (putting things together): Error backpropagation algorithm"
   ]
  },
  {
   "cell_type": "code",
   "execution_count": null,
   "id": "7493b47d-1c54-46ca-8815-8fe06f3b63d2",
   "metadata": {},
   "outputs": [],
   "source": [
    "def train(X, Y, nn_architecture, epochs, learning_rate):\n",
    "    params_values = init_layers(nn_architecture, 2)\n",
    "    cost_history = []\n",
    "    accuracy_history = []\n",
    "    \n",
    "    for i in range(epochs):\n",
    "        Y_hat, cashe = full_forward_propagation(X, params_values, nn_architecture)\n",
    "        cost = get_cost_value(Y_hat, Y)\n",
    "        cost_history.append(cost)\n",
    "        accuracy = get_accuracy_value(Y_hat, Y)\n",
    "        accuracy_history.append(accuracy)\n",
    "        \n",
    "        grads_values = full_backward_propagation(Y_hat, Y, cashe, params_values, nn_architecture)\n",
    "        params_values = update(params_values, grads_values, nn_architecture, learning_rate)\n",
    "        \n",
    "    return params_values, cost_history, accuracy_history"
   ]
  },
  {
   "cell_type": "markdown",
   "id": "a24005fc-0fd2-47c5-9600-a1f2e7464c56",
   "metadata": {},
   "source": [
    "## Example"
   ]
  },
  {
   "cell_type": "code",
   "execution_count": null,
   "id": "00be5a77-c9a6-4c93-b1ad-a6a38ba955de",
   "metadata": {},
   "outputs": [],
   "source": [
    "x = np.array([[1,2],[3,4],[2,3],[4,5]])\n",
    "y = np.array([[3],[4],[5],[3]])\n",
    "#y = np.squeeze(np.asarray(y))"
   ]
  },
  {
   "cell_type": "code",
   "execution_count": null,
   "id": "cfdbd71d-ae32-4566-9f8e-79a2f9a842a0",
   "metadata": {},
   "outputs": [],
   "source": [
    "simple_model_1 = train(x,y, nn_architecture, 50, 0.01)"
   ]
  },
  {
   "cell_type": "markdown",
   "id": "f70e745c-d2dd-4d7c-abab-43914487ac21",
   "metadata": {},
   "source": [
    "# Backpropagation with keras"
   ]
  },
  {
   "cell_type": "markdown",
   "id": "e4bb8c6d-1a3f-45da-8240-dfcd38ccc8a4",
   "metadata": {
    "colab_type": "text",
    "id": "9ubNxwX3xQ2w"
   },
   "source": [
    "https://colab.research.google.com/drive/1N2vNzxZrj5U3-51eYJobhNcBenlP00Pw"
   ]
  },
  {
   "cell_type": "code",
   "execution_count": null,
   "id": "eae22dc0-b21f-477c-82d5-7ecf9680c519",
   "metadata": {},
   "outputs": [],
   "source": [
    "! pip install keras"
   ]
  },
  {
   "cell_type": "code",
   "execution_count": null,
   "id": "683ad4cf-61b1-48d1-9df9-88adf83aa4b8",
   "metadata": {},
   "outputs": [],
   "source": [
    "! pip install tensorflow"
   ]
  },
  {
   "cell_type": "code",
   "execution_count": null,
   "id": "236875b5-62c0-43ac-94e6-03ecd7cd2bc4",
   "metadata": {
    "ExecuteTime": {
     "end_time": "2019-02-06T15:01:04.077408Z",
     "start_time": "2019-02-06T15:01:01.517009Z"
    },
    "colab": {
     "base_uri": "https://localhost:8080/",
     "height": 34
    },
    "colab_type": "code",
    "id": "69_D8f8Q-jck",
    "outputId": "461fb8c1-4c2c-4dfd-cbbb-9348718cbd5d"
   },
   "outputs": [],
   "source": [
    "import numpy as np\n",
    "from keras.models import Sequential\n",
    "from keras.layers import Dense"
   ]
  },
  {
   "cell_type": "code",
   "execution_count": null,
   "id": "99c0aa36-5d2c-4ca5-9e84-27490f5596c4",
   "metadata": {
    "ExecuteTime": {
     "end_time": "2019-02-06T15:01:04.082092Z",
     "start_time": "2019-02-06T15:01:04.079514Z"
    },
    "colab": {},
    "colab_type": "code",
    "id": "t2R75_Tsf43c"
   },
   "outputs": [],
   "source": [
    "x = [[1],[2],[3],[4]]\n",
    "y = [[2],[4],[6],[8]]"
   ]
  },
  {
   "cell_type": "code",
   "execution_count": null,
   "id": "5067c8f4-2394-415b-a9ef-02cc003da6aa",
   "metadata": {
    "ExecuteTime": {
     "end_time": "2019-02-06T15:01:04.115474Z",
     "start_time": "2019-02-06T15:01:04.083806Z"
    },
    "colab": {
     "base_uri": "https://localhost:8080/",
     "height": 309
    },
    "colab_type": "code",
    "id": "YGMue2a3f46p",
    "outputId": "a72c82b9-0a61-443d-b823-42743caea508"
   },
   "outputs": [],
   "source": [
    "model = Sequential()\n",
    "model.add(Dense(1, activation='linear', input_shape=(1,)))\n",
    "model.summary()"
   ]
  },
  {
   "cell_type": "code",
   "execution_count": null,
   "id": "380d1aa0-970c-4a83-924a-516f776d3c77",
   "metadata": {
    "ExecuteTime": {
     "end_time": "2019-02-06T15:01:04.129940Z",
     "start_time": "2019-02-06T15:01:04.118932Z"
    },
    "colab": {
     "base_uri": "https://localhost:8080/",
     "height": 51
    },
    "colab_type": "code",
    "id": "CIpEfaSvgGTX",
    "outputId": "ca39ad45-07a6-4ea4-a4bf-8bf05520b87f"
   },
   "outputs": [],
   "source": [
    "model.weights"
   ]
  },
  {
   "cell_type": "code",
   "execution_count": null,
   "id": "201afee6-c171-447b-ba00-5af877eb68db",
   "metadata": {
    "ExecuteTime": {
     "end_time": "2019-02-06T15:01:04.167785Z",
     "start_time": "2019-02-06T15:01:04.133071Z"
    },
    "colab": {
     "base_uri": "https://localhost:8080/",
     "height": 122
    },
    "colab_type": "code",
    "id": "RtTiJM0XgHbv",
    "outputId": "e0d8df89-e55f-4386-97f4-5d31994cc1c3"
   },
   "outputs": [],
   "source": [
    "model.get_weights()"
   ]
  },
  {
   "cell_type": "code",
   "execution_count": null,
   "id": "29ddf5c9-703e-42d1-a81b-3f4616d7cff2",
   "metadata": {
    "ExecuteTime": {
     "end_time": "2019-02-06T15:01:04.199577Z",
     "start_time": "2019-02-06T15:01:04.169239Z"
    },
    "colab": {
     "base_uri": "https://localhost:8080/",
     "height": 71
    },
    "colab_type": "code",
    "id": "i_dBj3XZgIe5",
    "outputId": "dbc54e81-3ba8-48ff-894e-faf6dc12c17c"
   },
   "outputs": [],
   "source": [
    "from tensorflow.keras.optimizers import SGD\n",
    "s= SGD(learning_rate = 0.01)\n",
    "model.compile(optimizer=s,loss='mean_squared_error',metrics=['accuracy'])"
   ]
  },
  {
   "cell_type": "code",
   "execution_count": null,
   "id": "cbc779b9-5130-4556-bfce-0635aac72fd8",
   "metadata": {
    "ExecuteTime": {
     "end_time": "2019-02-06T15:01:04.203644Z",
     "start_time": "2019-02-06T15:01:04.201126Z"
    },
    "colab": {},
    "colab_type": "code",
    "id": "PKbkH7UcbtYG"
   },
   "outputs": [],
   "source": [
    "from copy import deepcopy"
   ]
  },
  {
   "cell_type": "code",
   "execution_count": null,
   "id": "91b2ff25-9e92-4bec-b3ec-3be038d851dc",
   "metadata": {
    "ExecuteTime": {
     "end_time": "2019-02-06T15:01:04.226175Z",
     "start_time": "2019-02-06T15:01:04.205327Z"
    },
    "colab": {},
    "colab_type": "code",
    "id": "7DrDeh9dgUw_"
   },
   "outputs": [],
   "source": [
    "w = deepcopy(model.get_weights())"
   ]
  },
  {
   "cell_type": "code",
   "execution_count": null,
   "id": "4ce39765-078a-41c9-b54f-6e1f53172709",
   "metadata": {
    "ExecuteTime": {
     "end_time": "2019-02-06T15:01:04.232195Z",
     "start_time": "2019-02-06T15:01:04.227913Z"
    },
    "colab": {
     "base_uri": "https://localhost:8080/",
     "height": 34
    },
    "colab_type": "code",
    "id": "dDXso2D3hLTm",
    "outputId": "4e129283-c59e-48fc-f9f0-338809166dc6"
   },
   "outputs": [],
   "source": [
    "w"
   ]
  },
  {
   "cell_type": "code",
   "execution_count": null,
   "id": "f715c605-cd4f-49dd-b546-c4e8ae253773",
   "metadata": {
    "ExecuteTime": {
     "end_time": "2019-02-06T15:01:04.237074Z",
     "start_time": "2019-02-06T15:01:04.233832Z"
    },
    "colab": {
     "base_uri": "https://localhost:8080/",
     "height": 34
    },
    "colab_type": "code",
    "id": "1VQcbSUk80Iq",
    "outputId": "b51af49b-bb54-4b7a-940d-0efaa537b0a3"
   },
   "outputs": [],
   "source": [
    "w = [[[-0.07377076]], [0.]]\n",
    "w"
   ]
  },
  {
   "cell_type": "code",
   "execution_count": null,
   "id": "a2bf207e-9d0e-4966-b8d8-791f496423d8",
   "metadata": {
    "ExecuteTime": {
     "end_time": "2019-02-06T15:01:04.242582Z",
     "start_time": "2019-02-06T15:01:04.238658Z"
    },
    "colab": {
     "base_uri": "https://localhost:8080/",
     "height": 34
    },
    "colab_type": "code",
    "id": "le25igri89J5",
    "outputId": "fee1f8a1-a556-4e65-f2e6-fe3db39b775a"
   },
   "outputs": [],
   "source": [
    "w[0]"
   ]
  },
  {
   "cell_type": "code",
   "execution_count": null,
   "id": "37bbafcb-febb-44b5-aa9c-005552455349",
   "metadata": {
    "ExecuteTime": {
     "end_time": "2019-02-06T15:01:04.248231Z",
     "start_time": "2019-02-06T15:01:04.244978Z"
    },
    "colab": {},
    "colab_type": "code",
    "id": "Z9NcQEFFgXLl"
   },
   "outputs": [],
   "source": [
    "def feed_forward(inputs, outputs, weights):\n",
    "    hidden = np.dot(inputs,weights[0])\n",
    "    out = hidden+weights[1]\n",
    "    squared_error = (np.square(out - outputs))\n",
    "    return squared_error"
   ]
  },
  {
   "cell_type": "code",
   "execution_count": null,
   "id": "6ffe2996-aee5-4e88-9587-6c314bd0694c",
   "metadata": {
    "ExecuteTime": {
     "end_time": "2019-02-06T15:01:04.255500Z",
     "start_time": "2019-02-06T15:01:04.250166Z"
    },
    "colab": {},
    "colab_type": "code",
    "id": "gVbeiIYi4vly"
   },
   "outputs": [],
   "source": [
    "def update_weights(inputs, outputs, weights, epochs):  \n",
    "    for epoch in range(epochs):\n",
    "        org_loss = feed_forward(inputs, outputs, weights)  \n",
    "        wts_tmp = deepcopy(weights)\n",
    "        wts_tmp2 = deepcopy(weights)\n",
    "        for ix, wt in enumerate(weights): \n",
    "            wts_tmp[-(ix+1)] += 0.0001\n",
    "            # print('wts_tmp:', wts_tmp)\n",
    "            loss = feed_forward(inputs, outputs, wts_tmp)\n",
    "            # print('loss', loss)\n",
    "            del_loss = np.sum(org_loss - loss)/(0.0001*len(inputs))\n",
    "            wts_tmp2[-(ix+1)] += del_loss*0.01\n",
    "            wts_tmp = deepcopy(weights)\n",
    "\n",
    "        weights = deepcopy(wts_tmp2)\n",
    "    return wts_tmp2"
   ]
  },
  {
   "cell_type": "code",
   "execution_count": null,
   "id": "ea6f8ec8-fa75-444a-83f8-8a9111254cb4",
   "metadata": {
    "ExecuteTime": {
     "end_time": "2019-02-06T15:01:04.265501Z",
     "start_time": "2019-02-06T15:01:04.261875Z"
    },
    "colab": {
     "base_uri": "https://localhost:8080/",
     "height": 34
    },
    "colab_type": "code",
    "id": "Vl-3pGg7wyA0",
    "outputId": "6c928a18-cb08-4766-efe8-cdc529f36264"
   },
   "outputs": [],
   "source": [
    "w = [2000, 0]\n",
    "w[-1]"
   ]
  },
  {
   "cell_type": "code",
   "execution_count": null,
   "id": "5da21fe7-f27e-48a0-84ae-95da3fdcdc42",
   "metadata": {
    "ExecuteTime": {
     "end_time": "2019-02-06T15:01:04.271473Z",
     "start_time": "2019-02-06T15:01:04.267050Z"
    },
    "colab": {
     "base_uri": "https://localhost:8080/",
     "height": 34
    },
    "colab_type": "code",
    "id": "AXoyyzovwbnu",
    "outputId": "ba3ee620-4f5f-45f3-eadb-04ed1c38e6ba"
   },
   "outputs": [],
   "source": [
    "import numpy as np\n",
    "from copy import deepcopy\n",
    "update_weights(x,y,w,1)"
   ]
  },
  {
   "cell_type": "code",
   "execution_count": null,
   "id": "6c63d209-c5b4-4d53-bd95-b5b75e74cb65",
   "metadata": {
    "ExecuteTime": {
     "end_time": "2019-02-06T15:01:41.999589Z",
     "start_time": "2019-02-06T15:01:04.272917Z"
    },
    "colab": {},
    "colab_type": "code",
    "id": "Cp1ARjWVxjv6"
   },
   "outputs": [],
   "source": [
    "w_val = []\n",
    "b_val = []\n",
    "for k in range(100):\n",
    "    w_new, b_new = update_weights(x,y,w,(k+1))\n",
    "    w_val.append(w_new)\n",
    "    b_val.append(b_new)"
   ]
  },
  {
   "cell_type": "code",
   "execution_count": null,
   "id": "829eeb34-d126-4408-899b-228a4d10e3cc",
   "metadata": {
    "ExecuteTime": {
     "end_time": "2019-02-06T15:01:42.439555Z",
     "start_time": "2019-02-06T15:01:42.003499Z"
    },
    "colab": {
     "base_uri": "https://localhost:8080/",
     "height": 346
    },
    "colab_type": "code",
    "id": "YxqiDTabCpbq",
    "outputId": "486aa6ad-ab4e-429a-e34f-1ba86a7eb8c9"
   },
   "outputs": [],
   "source": [
    "import matplotlib.pyplot as plt\n",
    "%matplotlib inline\n",
    "plt.plot(w_val)\n",
    "plt.title('Weight value over different epochs when initial weight is 1.5')\n",
    "plt.xlabel('epochs')\n",
    "plt.ylabel('weight value')\n",
    "plt.grid('off')"
   ]
  },
  {
   "cell_type": "code",
   "execution_count": null,
   "id": "62ddb00b-519d-41e6-958d-3f7771497aad",
   "metadata": {
    "ExecuteTime": {
     "end_time": "2019-02-06T15:01:42.595083Z",
     "start_time": "2019-02-06T15:01:42.441418Z"
    },
    "colab": {
     "base_uri": "https://localhost:8080/",
     "height": 346
    },
    "colab_type": "code",
    "id": "vD7_gStUCag4",
    "outputId": "684da867-5510-46b4-94e1-6dbf6ee7cb41"
   },
   "outputs": [],
   "source": [
    "import matplotlib.pyplot as plt\n",
    "%matplotlib inline\n",
    "plt.plot(w_val)\n",
    "plt.title('Weight value over different epochs when initial weight is 0.01')\n",
    "plt.xlabel('epochs')\n",
    "plt.ylabel('weight value')\n",
    "plt.grid('off')"
   ]
  },
  {
   "cell_type": "code",
   "execution_count": null,
   "id": "98bb5e3c-6829-48fd-8e0b-3dc9df2838c3",
   "metadata": {
    "ExecuteTime": {
     "end_time": "2019-02-06T15:01:42.751047Z",
     "start_time": "2019-02-06T15:01:42.596516Z"
    },
    "colab": {
     "base_uri": "https://localhost:8080/",
     "height": 346
    },
    "colab_type": "code",
    "id": "0QmI07khy8Yt",
    "outputId": "7c5e239c-1cbf-4f81-c8ce-f605ed954966"
   },
   "outputs": [],
   "source": [
    "import matplotlib.pyplot as plt\n",
    "%matplotlib inline\n",
    "plt.plot(w_val)\n",
    "plt.title('Weight value over different epochs when initial weight is 0.00001')\n",
    "plt.xlabel('epochs')\n",
    "plt.ylabel('weight value')\n",
    "plt.grid('off')"
   ]
  },
  {
   "cell_type": "code",
   "execution_count": null,
   "id": "b089f87e-e388-4bdb-8eb7-16497b197f74",
   "metadata": {
    "ExecuteTime": {
     "end_time": "2019-02-06T15:01:42.756141Z",
     "start_time": "2019-02-06T15:01:42.752481Z"
    },
    "colab": {
     "base_uri": "https://localhost:8080/",
     "height": 34
    },
    "colab_type": "code",
    "id": "JQhrdZhQqEdW",
    "outputId": "27faf895-e7cb-4555-b133-ad14b9215e5f"
   },
   "outputs": [],
   "source": [
    "w = list(model.get_weights().copy())\n",
    "w"
   ]
  },
  {
   "cell_type": "code",
   "execution_count": null,
   "id": "3634ca1e-f3a4-4975-b584-bd24250a23de",
   "metadata": {
    "ExecuteTime": {
     "end_time": "2019-02-06T15:01:42.771200Z",
     "start_time": "2019-02-06T15:01:42.757573Z"
    },
    "colab": {
     "base_uri": "https://localhost:8080/",
     "height": 34
    },
    "colab_type": "code",
    "id": "wJMNp4m2kh2X",
    "outputId": "c6ff2567-78b3-449c-f7c2-adf16dc743da"
   },
   "outputs": [],
   "source": [
    "update_weights(x,y,w,100)"
   ]
  },
  {
   "cell_type": "code",
   "execution_count": null,
   "id": "1b7aab44-0921-4ee8-9208-3c21c66b2a12",
   "metadata": {
    "ExecuteTime": {
     "end_time": "2019-02-06T15:01:43.086233Z",
     "start_time": "2019-02-06T15:01:42.772533Z"
    },
    "colab": {
     "base_uri": "https://localhost:8080/",
     "height": 1000
    },
    "colab_type": "code",
    "id": "gsBQ4FM5kmKm",
    "outputId": "d0c8c81b-b8ed-4fcc-9bf3-0e0f19ca2897"
   },
   "outputs": [],
   "source": [
    "model.fit(np.array(x), np.array(y), epochs=100, batch_size = 4, verbose=1)"
   ]
  },
  {
   "cell_type": "code",
   "execution_count": null,
   "id": "9adaef87-4b83-4537-bb98-0354258020ac",
   "metadata": {
    "ExecuteTime": {
     "end_time": "2019-02-06T15:01:43.092924Z",
     "start_time": "2019-02-06T15:01:43.088369Z"
    },
    "colab": {
     "base_uri": "https://localhost:8080/",
     "height": 34
    },
    "colab_type": "code",
    "id": "-XgMBr75kpoU",
    "outputId": "f7282cb6-93d1-4162-d3cd-6c5de08457c1"
   },
   "outputs": [],
   "source": [
    "model.get_weights()"
   ]
  }
 ],
 "metadata": {
  "kernelspec": {
   "display_name": "Python 3",
   "language": "python",
   "name": "python3"
  },
  "language_info": {
   "codemirror_mode": {
    "name": "ipython",
    "version": 3
   },
   "file_extension": ".py",
   "mimetype": "text/x-python",
   "name": "python",
   "nbconvert_exporter": "python",
   "pygments_lexer": "ipython3",
   "version": "3.10.9"
  }
 },
 "nbformat": 4,
 "nbformat_minor": 5
}
