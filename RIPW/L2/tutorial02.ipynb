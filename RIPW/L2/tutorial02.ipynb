{
 "cells": [
  {
   "cell_type": "markdown",
   "metadata": {
    "id": "nE4pftsc2Kc7"
   },
   "source": [
    "# Graficzna wizualizacja danych z użyciem bibliotek `matplotlib` i `seaborn`\n",
    "\n",
    "\n",
    "Jedną z ważnych części analizy danych jest wizualizacja graficzna. Może to być częścią procesu badawczego - na przykład, aby pomóc zidentyfikować emisje lub wymagane\n",
    "przekształcanie danych lub jako sposób na generowanie pomysłów na modele. Python ma wiele dodatkowych bibliotek do tworzenia statycznych lub dynamicznych wizualizacji, ale skupimy się głównie na `matplotlib` i bibliotekach, które na nim budują.\n",
    "podstawa.\n",
    "\n",
    "Z biegiem czasu `matplotlib` stworzyło wiele dodatkowych zestawów narzędzi do wizualizacji danych, które wykorzystują `matplotlib` jako „rdzeń”. Jednym z takich narzędzi jest `seaborn`.\n"
   ]
  },
  {
   "cell_type": "markdown",
   "metadata": {
    "id": "bjqGfBLW2KdC"
   },
   "source": [
    "# Krótki przykład użycia `matplotlib`\n",
    "<div id = \"visual: matplotlib\"> </div>\n",
    "\n",
    "Aby zaimportować bibliotekę `matplotlib`, użyjemy następującej konwencji:"
   ]
  },
  {
   "cell_type": "code",
   "execution_count": 5,
   "metadata": {
    "collapsed": false,
    "executionInfo": {
     "elapsed": 470,
     "status": "ok",
     "timestamp": 1634366947862,
     "user": {
      "displayName": "",
      "photoUrl": "",
      "userId": ""
     },
     "user_tz": -120
    },
    "id": "0qOdGSg_2KdD",
    "jupyter": {
     "outputs_hidden": false
    }
   },
   "outputs": [],
   "source": [
    "%matplotlib inline\n",
    "\n",
    "import matplotlib.pyplot as plt"
   ]
  },
  {
   "cell_type": "markdown",
   "metadata": {
    "id": "i4MDsVbi2KdF"
   },
   "source": [
    "Poniżej znajduje się przykład wykreślenia linii prostej:"
   ]
  },
  {
   "cell_type": "code",
   "execution_count": 6,
   "metadata": {
    "collapsed": false,
    "executionInfo": {
     "elapsed": 273,
     "status": "ok",
     "timestamp": 1634366955171,
     "user": {
      "displayName": "",
      "photoUrl": "",
      "userId": ""
     },
     "user_tz": -120
    },
    "id": "ectwKF6R2KdG",
    "jupyter": {
     "outputs_hidden": false
    }
   },
   "outputs": [],
   "source": [
    "import numpy as np"
   ]
  },
  {
   "cell_type": "code",
   "execution_count": 7,
   "metadata": {
    "collapsed": false,
    "executionInfo": {
     "elapsed": 423,
     "status": "ok",
     "timestamp": 1634366959061,
     "user": {
      "displayName": "",
      "photoUrl": "",
      "userId": ""
     },
     "user_tz": -120
    },
    "id": "NnkRGBay2KdH",
    "jupyter": {
     "outputs_hidden": false
    }
   },
   "outputs": [],
   "source": [
    "data = np.arange(10)"
   ]
  },
  {
   "cell_type": "code",
   "execution_count": 8,
   "metadata": {
    "colab": {
     "base_uri": "https://localhost:8080/"
    },
    "collapsed": false,
    "executionInfo": {
     "elapsed": 307,
     "status": "ok",
     "timestamp": 1634366961085,
     "user": {
      "displayName": "",
      "photoUrl": "",
      "userId": ""
     },
     "user_tz": -120
    },
    "id": "FPAfc9II2KdH",
    "jupyter": {
     "outputs_hidden": false
    },
    "outputId": "9ac7ae93-4f2b-48b9-ed6b-36f98b17f2a7"
   },
   "outputs": [
    {
     "data": {
      "text/plain": [
       "array([0, 1, 2, 3, 4, 5, 6, 7, 8, 9])"
      ]
     },
     "execution_count": 8,
     "metadata": {},
     "output_type": "execute_result"
    }
   ],
   "source": [
    "data"
   ]
  },
  {
   "cell_type": "code",
   "execution_count": 9,
   "metadata": {
    "colab": {
     "base_uri": "https://localhost:8080/",
     "height": 283
    },
    "collapsed": false,
    "executionInfo": {
     "elapsed": 300,
     "status": "ok",
     "timestamp": 1634366963842,
     "user": {
      "displayName": "",
      "photoUrl": "",
      "userId": ""
     },
     "user_tz": -120
    },
    "id": "29GdC4D_2KdJ",
    "jupyter": {
     "outputs_hidden": false
    },
    "outputId": "69d97ef4-79bb-43eb-db59-decbd526012b"
   },
   "outputs": [
    {
     "data": {
      "text/plain": [
       "[<matplotlib.lines.Line2D at 0x1da4a76c520>]"
      ]
     },
     "execution_count": 9,
     "metadata": {},
     "output_type": "execute_result"
    },
    {
     "data": {
      "image/png": "[encoded data removed]",
      "text/plain": [
       "<Figure size 432x288 with 1 Axes>"
      ]
     },
     "metadata": {
      "needs_background": "light"
     },
     "output_type": "display_data"
    }
   ],
   "source": [
    "plt.plot(data)"
   ]
  },
  {
   "cell_type": "markdown",
   "metadata": {
    "id": "yFz4PYxX2KdK"
   },
   "source": [
    "## Rysunki i wykresy pomocnicze\n",
    "<div id=\"visual:matplotlib:figs_and_subplots\"></div>\n",
    "\n",
    "Wykresy w `matplotlib` znajdują się wewnątrz obiektu ` Figure`. Nową figurę można utworzyć za pomocą `plt.figure`:"
   ]
  },
  {
   "cell_type": "code",
   "execution_count": 10,
   "metadata": {
    "colab": {
     "base_uri": "https://localhost:8080/",
     "height": 35
    },
    "collapsed": false,
    "executionInfo": {
     "elapsed": 284,
     "status": "ok",
     "timestamp": 1634366974069,
     "user": {
      "displayName": "",
      "photoUrl": "",
      "userId": ""
     },
     "user_tz": -120
    },
    "id": "vzTJBDNb2KdL",
    "jupyter": {
     "outputs_hidden": false
    },
    "outputId": "1a4450e1-9e9a-471d-80b3-f4fc3bf254f2"
   },
   "outputs": [
    {
     "data": {
      "text/plain": [
       "<Figure size 432x288 with 0 Axes>"
      ]
     },
     "metadata": {},
     "output_type": "display_data"
    }
   ],
   "source": [
    "fig = plt.figure()"
   ]
  },
  {
   "cell_type": "markdown",
   "metadata": {
    "id": "Zn7_UOVE2KdM"
   },
   "source": [
    "W interpreterze IPythona zostanie wyrenderowane puste okno, aw notatniku Jupyter nic się nie stanie. Nie możesz utworzyć okna z pustym obrazem. Musisz utworzyć jeden lub więcej wykresów pomocniczych (subplots) za pomocą funkcji `add_subplot`"
   ]
  },
  {
   "cell_type": "code",
   "execution_count": 17,
   "metadata": {
    "colab": {
     "base_uri": "https://localhost:8080/"
    },
    "collapsed": false,
    "executionInfo": {
     "elapsed": 279,
     "status": "ok",
     "timestamp": 1634366978673,
     "user": {
      "displayName": "",
      "photoUrl": "",
      "userId": ""
     },
     "user_tz": -120
    },
    "id": "CwrUz0hn2KdM",
    "jupyter": {
     "outputs_hidden": false
    },
    "outputId": "eeae29f2-1791-4f7a-c172-f537c970250b"
   },
   "outputs": [],
   "source": [
    "ax1 = fig.add_subplot(2, 2, 1)"
   ]
  },
  {
   "cell_type": "markdown",
   "metadata": {
    "id": "h5eg7T1I2KdN"
   },
   "source": [
    "Oznacza to, że figura musi mieć rozmiar 2 $ \\times2 $ (tj. zawierać maksymalnie 4 wykresy), a my wybraliśmy pierwszy z czterech wykresów (numeracja zaczyna się od jednego). Można wybrać następujące 2 wykresy:"
   ]
  },
  {
   "cell_type": "code",
   "execution_count": 21,
   "metadata": {
    "collapsed": false,
    "executionInfo": {
     "elapsed": 300,
     "status": "ok",
     "timestamp": 1634366982022,
     "user": {
      "displayName": "",
      "photoUrl": "",
      "userId": ""
     },
     "user_tz": -120
    },
    "id": "ysEw6FBu2KdN",
    "jupyter": {
     "outputs_hidden": false
    }
   },
   "outputs": [],
   "source": [
    "ax2 = fig.add_subplot(2, 2, 2)"
   ]
  },
  {
   "cell_type": "code",
   "execution_count": 22,
   "metadata": {
    "collapsed": false,
    "executionInfo": {
     "elapsed": 273,
     "status": "ok",
     "timestamp": 1634366985506,
     "user": {
      "displayName": "",
      "photoUrl": "",
      "userId": ""
     },
     "user_tz": -120
    },
    "id": "ahLKTgV82KdO",
    "jupyter": {
     "outputs_hidden": false
    }
   },
   "outputs": [],
   "source": [
    "ax3 = fig.add_subplot(2, 2, 3)"
   ]
  },
  {
   "cell_type": "markdown",
   "metadata": {
    "id": "mEsxx4MF2KdO"
   },
   "source": [
    "Jeśli wykonasz polecenie kreślenia, na przykład `plt.plot([1.5, 3.5, -2, 1.6])`, dane wyjściowe zostaną wykonane na ostatnim wykresie ostatnio utworzonej figury. Na przykład wykonanie polecenia"
   ]
  },
  {
   "cell_type": "code",
   "execution_count": 13,
   "metadata": {
    "colab": {
     "base_uri": "https://localhost:8080/",
     "height": 283
    },
    "collapsed": false,
    "executionInfo": {
     "elapsed": 353,
     "status": "ok",
     "timestamp": 1634366988101,
     "user": {
      "displayName": "",
      "photoUrl": "",
      "userId": ""
     },
     "user_tz": -120
    },
    "id": "LBCbYSV12KdP",
    "jupyter": {
     "outputs_hidden": false
    },
    "outputId": "b2c3d4f1-fca3-4f75-884f-dfe5893a8204"
   },
   "outputs": [
    {
     "data": {
      "text/plain": [
       "[<matplotlib.lines.Line2D at 0x7f45ea6e7b90>]"
      ]
     },
     "execution_count": 13,
     "metadata": {},
     "output_type": "execute_result"
    },
    {
     "data": {
      "image/png": "[encoded data removed]",
      "text/plain": [
       "<Figure size 432x288 with 1 Axes>"
      ]
     },
     "metadata": {
      "needs_background": "light"
     },
     "output_type": "display_data"
    }
   ],
   "source": [
    "plt.plot(np.random.randn(50).cumsum(), 'k--')"
   ]
  },
  {
   "cell_type": "markdown",
   "metadata": {
    "id": "iifjNq5E2KdP"
   },
   "source": [
    "Wyrażenie 'k--' określa styl linii: czarna linia przerywana. Metoda `fig.add_subplot` zwraca obiekt` AxesSubplot`, do którego można bezpośrednio wykreślić wykres:"
   ]
  },
  {
   "cell_type": "code",
   "execution_count": 23,
   "metadata": {
    "colab": {
     "base_uri": "https://localhost:8080/",
     "height": 166
    },
    "collapsed": false,
    "executionInfo": {
     "elapsed": 315,
     "status": "error",
     "timestamp": 1634366994820,
     "user": {
      "displayName": "",
      "photoUrl": "",
      "userId": ""
     },
     "user_tz": -120
    },
    "id": "Bf04lrtt2KdP",
    "jupyter": {
     "outputs_hidden": false
    },
    "outputId": "9daaba48-c3f7-456c-e00f-12df62d8cf8c"
   },
   "outputs": [
    {
     "data": {
      "text/plain": [
       "(array([ 2.,  4.,  1.,  6.,  5.,  8.,  6.,  5., 13., 10.,  9.,  9.,  4.,\n",
       "         5.,  2.,  2.,  4.,  2.,  2.,  1.]),\n",
       " array([-1.99658463, -1.75585517, -1.51512572, -1.27439627, -1.03366681,\n",
       "        -0.79293736, -0.55220791, -0.31147845, -0.070749  ,  0.16998045,\n",
       "         0.4107099 ,  0.65143936,  0.89216881,  1.13289826,  1.37362772,\n",
       "         1.61435717,  1.85508662,  2.09581607,  2.33654553,  2.57727498,\n",
       "         2.81800443]),\n",
       " <BarContainer object of 20 artists>)"
      ]
     },
     "execution_count": 23,
     "metadata": {},
     "output_type": "execute_result"
    }
   ],
   "source": [
    "ax1.hist(np.random.randn(100), bins=20, color='k', alpha=0.3)"
   ]
  },
  {
   "cell_type": "code",
   "execution_count": 24,
   "metadata": {
    "colab": {
     "base_uri": "https://localhost:8080/"
    },
    "collapsed": false,
    "executionInfo": {
     "elapsed": 286,
     "status": "ok",
     "timestamp": 1634367045753,
     "user": {
      "displayName": "",
      "photoUrl": "",
      "userId": ""
     },
     "user_tz": -120
    },
    "id": "Ku5wY6db2KdQ",
    "jupyter": {
     "outputs_hidden": false
    },
    "outputId": "7b8f9c68-fb58-4402-98c8-7dae51c0ff68"
   },
   "outputs": [
    {
     "data": {
      "text/plain": [
       "<matplotlib.collections.PathCollection at 0x1da4a938430>"
      ]
     },
     "execution_count": 24,
     "metadata": {},
     "output_type": "execute_result"
    }
   ],
   "source": [
    "ax2.scatter(np.arange(30), np.arange(30) + 3 * np.random.randn(30))"
   ]
  },
  {
   "cell_type": "markdown",
   "metadata": {
    "id": "p-x4F2jE2KdR"
   },
   "source": [
    "Pełny katalog typów wykresów można znaleźć pod adresem <https://matplotlib.org/>.\n",
    "\n",
    "Jak widać powyższe polecenia, które są wykonywane w osobnych komórkach, nie działają w notatniku Jupyter. Aby zbudować podwykresy w Jupyter, musisz wykonać wszystkie polecenia w jednej komórce:"
   ]
  },
  {
   "cell_type": "code",
   "execution_count": 25,
   "metadata": {
    "colab": {
     "base_uri": "https://localhost:8080/",
     "height": 287
    },
    "collapsed": false,
    "executionInfo": {
     "elapsed": 867,
     "status": "ok",
     "timestamp": 1634367054098,
     "user": {
      "displayName": "",
      "photoUrl": "",
      "userId": ""
     },
     "user_tz": -120
    },
    "id": "t_njgE3N2KdR",
    "jupyter": {
     "outputs_hidden": false
    },
    "outputId": "1f8d198a-388b-4c83-faf5-81b3d02f488c"
   },
   "outputs": [
    {
     "data": {
      "text/plain": [
       "<matplotlib.collections.PathCollection at 0x1da4aa1d7f0>"
      ]
     },
     "execution_count": 25,
     "metadata": {},
     "output_type": "execute_result"
    },
    {
     "data": {
      "image/png": "[encoded data removed]",
      "text/plain": [
       "<Figure size 432x288 with 3 Axes>"
      ]
     },
     "metadata": {
      "needs_background": "light"
     },
     "output_type": "display_data"
    }
   ],
   "source": [
    "fig = plt.figure()\n",
    "fig.add_subplot(2, 2, 1)\n",
    "ax1 = fig.add_subplot(2, 2, 2)\n",
    "ax2 = fig.add_subplot(2, 2, 3)\n",
    "plt.plot([1.5, 3.5, -2, 1.6])\n",
    "_ = ax1.hist(np.random.randn(100), bins=20, color='k', alpha=0.3)\n",
    "ax2.scatter(np.arange(30), np.arange(30) + 3 * np.random.randn(30))"
   ]
  },
  {
   "cell_type": "markdown",
   "metadata": {
    "id": "Nqb0dsXI2KdS"
   },
   "source": [
    "## Kolor, znaczniki i style linii\n",
    "<div id=\"visual:matplotlib:colors\"></div>\n",
    "\n",
    "Główna funkcja `plot` biblioteki`matplotlib` przyjmuje tablice współrzędnych `x` i` y` oraz (opcjonalnie) ciąg znaków określający kolor i styl linii. Na przykład, aby wykreślić zależność `y` od `x` zielonymi pociągnięciami, musisz wykonać:"
   ]
  },
  {
   "cell_type": "markdown",
   "metadata": {
    "id": "UvWfDMlY2KdT"
   },
   "source": [
    "```Python\n",
    "        ax.plot(x, y, 'g--')\n",
    "```"
   ]
  },
  {
   "cell_type": "markdown",
   "metadata": {
    "id": "2Zyzu2Zj2KdT"
   },
   "source": [
    "W związku z tym ustawiliśmy zarówno kolor, jak i styl linii jako ciąg. W praktyce przy programowym tworzeniu wykresów używanie ciągów nie jest wygodne. Ten sam wykres można wykreślić za pomocą polecenia:"
   ]
  },
  {
   "cell_type": "markdown",
   "metadata": {
    "id": "S5T5WmOI2KdT"
   },
   "source": [
    "```Python\n",
    "        ax.plot(x, y, linestyle='--', color='g')\n",
    "```"
   ]
  },
  {
   "cell_type": "markdown",
   "metadata": {
    "id": "Pt15phdV2KdU"
   },
   "source": [
    "Wykresy mogą mieć również znaczniki do podświetlania punktów danych. Ponieważ `matplotlib` tworzy linie ciągłe poprzez interpolację wartości między podanymi punktami, może nie być jasne, gdzie znajdują się podane wartości. Znaczniki mogą być częścią ciągu znaków, który definiuje styl linii:"
   ]
  },
  {
   "cell_type": "code",
   "execution_count": 26,
   "metadata": {
    "collapsed": false,
    "executionInfo": {
     "elapsed": 641,
     "status": "ok",
     "timestamp": 1634367070100,
     "user": {
      "displayName": "",
      "photoUrl": "",
      "userId": ""
     },
     "user_tz": -120
    },
    "id": "OEmogCcA2KdU",
    "jupyter": {
     "outputs_hidden": false
    }
   },
   "outputs": [],
   "source": [
    "from numpy.random import randn"
   ]
  },
  {
   "cell_type": "code",
   "execution_count": 27,
   "metadata": {
    "colab": {
     "base_uri": "https://localhost:8080/",
     "height": 283
    },
    "collapsed": false,
    "executionInfo": {
     "elapsed": 310,
     "status": "ok",
     "timestamp": 1634367108351,
     "user": {
      "displayName": "",
      "photoUrl": "",
      "userId": ""
     },
     "user_tz": -120
    },
    "id": "6D8q1FW82KdU",
    "jupyter": {
     "outputs_hidden": false
    },
    "outputId": "4fd701f7-c983-4357-ffee-86d2fa7c7248"
   },
   "outputs": [
    {
     "data": {
      "text/plain": [
       "[<matplotlib.lines.Line2D at 0x1da4aad7fa0>]"
      ]
     },
     "execution_count": 27,
     "metadata": {},
     "output_type": "execute_result"
    },
    {
     "data": {
      "image/png": "[encoded data removed]",
      "text/plain": [
       "<Figure size 432x288 with 1 Axes>"
      ]
     },
     "metadata": {
      "needs_background": "light"
     },
     "output_type": "display_data"
    }
   ],
   "source": [
    "plt.plot(randn(30).cumsum(), 'ko--')"
   ]
  },
  {
   "cell_type": "markdown",
   "metadata": {
    "id": "e3beGXhU2KdV"
   },
   "source": [
    "Można to było napisać bardziej w sposób jawny:"
   ]
  },
  {
   "cell_type": "markdown",
   "metadata": {
    "id": "7CkzEToL2KdV"
   },
   "source": [
    "```Python\n",
    "        plot(randn(30).cumsum(), color='k', linestyle='dashed', marker='o')\n",
    "```"
   ]
  },
  {
   "cell_type": "markdown",
   "metadata": {
    "id": "5hdS7XZY2KdV"
   },
   "source": [
    "Jak widać, interpolacja liniowa budowana jest pomiędzy kolejnymi punktami. To zachowanie można zmienić za pomocą parametru `drawstyle`:"
   ]
  },
  {
   "cell_type": "code",
   "execution_count": 28,
   "metadata": {
    "colab": {
     "base_uri": "https://localhost:8080/",
     "height": 283
    },
    "collapsed": false,
    "executionInfo": {
     "elapsed": 332,
     "status": "ok",
     "timestamp": 1634367114180,
     "user": {
      "displayName": "",
      "photoUrl": "",
      "userId": ""
     },
     "user_tz": -120
    },
    "id": "jdcASxmL2KdV",
    "jupyter": {
     "outputs_hidden": false
    },
    "outputId": "68cf2c80-08c5-4278-f794-a836477b924d"
   },
   "outputs": [
    {
     "data": {
      "text/plain": [
       "<matplotlib.legend.Legend at 0x1da4ab3a6a0>"
      ]
     },
     "execution_count": 28,
     "metadata": {},
     "output_type": "execute_result"
    },
    {
     "data": {
      "image/png": "[encoded data removed]",
      "text/plain": [
       "<Figure size 432x288 with 1 Axes>"
      ]
     },
     "metadata": {
      "needs_background": "light"
     },
     "output_type": "display_data"
    }
   ],
   "source": [
    "data = np.random.randn(30).cumsum()\n",
    "plt.plot(data, 'k--', label='Default')\n",
    "plt.plot(data, 'k-', drawstyle='steps-post', label='steps-post')\n",
    "plt.legend(loc='best')"
   ]
  },
  {
   "cell_type": "markdown",
   "metadata": {
    "id": "kE8k1wSF2KdV"
   },
   "source": [
    "## Etykiety osi, skala i legenda\n",
    "<div id=\"visual:matplotlib:ticks\"></div>\n",
    "\n",
    "Aby zilustrować, jak dostosować wykresy, utwórzmy prosty rysunek i wyświetlmy wykres błądzenia losowego:"
   ]
  },
  {
   "cell_type": "code",
   "execution_count": 29,
   "metadata": {
    "colab": {
     "base_uri": "https://localhost:8080/",
     "height": 283
    },
    "collapsed": false,
    "executionInfo": {
     "elapsed": 625,
     "status": "ok",
     "timestamp": 1634367080408,
     "user": {
      "displayName": "",
      "photoUrl": "",
      "userId": ""
     },
     "user_tz": -120
    },
    "id": "xXZB7alI2KdW",
    "jupyter": {
     "outputs_hidden": false
    },
    "outputId": "8f408091-c8c1-4b74-a8b7-8c5f14517350"
   },
   "outputs": [
    {
     "data": {
      "text/plain": [
       "[<matplotlib.lines.Line2D at 0x1da4abca040>]"
      ]
     },
     "execution_count": 29,
     "metadata": {},
     "output_type": "execute_result"
    },
    {
     "data": {
      "image/png": "[encoded data removed]",
      "text/plain": [
       "<Figure size 432x288 with 1 Axes>"
      ]
     },
     "metadata": {
      "needs_background": "light"
     },
     "output_type": "display_data"
    }
   ],
   "source": [
    "fig = plt.figure()\n",
    "ax = fig.add_subplot(1, 1, 1)\n",
    "ax.plot(np.random.randn(1000).cumsum())"
   ]
  },
  {
   "cell_type": "markdown",
   "metadata": {
    "id": "VhVwlyH62KdW"
   },
   "source": [
    "Aby zmienić etykiety na osi $x$, użyjemy metod `set_xticks`\n",
    "a `set_xticklables`:"
   ]
  },
  {
   "cell_type": "code",
   "execution_count": 30,
   "metadata": {
    "colab": {
     "base_uri": "https://localhost:8080/",
     "height": 274
    },
    "collapsed": false,
    "executionInfo": {
     "elapsed": 37,
     "status": "ok",
     "timestamp": 1634367081443,
     "user": {
      "displayName": "",
      "photoUrl": "",
      "userId": ""
     },
     "user_tz": -120
    },
    "id": "jD_SfjaB2KdW",
    "jupyter": {
     "outputs_hidden": false
    },
    "outputId": "ec988a28-5a41-44b6-dee6-eed5a7d39d58"
   },
   "outputs": [
    {
     "data": {
      "image/png": "[encoded data removed]",
      "text/plain": [
       "<Figure size 432x288 with 1 Axes>"
      ]
     },
     "metadata": {
      "needs_background": "light"
     },
     "output_type": "display_data"
    }
   ],
   "source": [
    "fig = plt.figure()\n",
    "ax = fig.add_subplot(1, 1, 1)\n",
    "ax.plot(np.random.randn(1000).cumsum())\n",
    "ticks = ax.set_xticks([0, 250, 500, 750, 1000])\n",
    "labels = ax.set_xticklabels(['one', 'two', 'three', 'four', 'five'], rotation=30, fontsize='small')"
   ]
  },
  {
   "cell_type": "markdown",
   "metadata": {
    "id": "9FDFiqys2KdX"
   },
   "source": [
    "Parametr `rotation` obraca etykiety etykiet na osi $x$ o 30 stopni. Na koniec ustaw tytuł i etykietę wykresu dla osi $x$ za pomocą metod `set_title` i `set_xlabel`:"
   ]
  },
  {
   "cell_type": "code",
   "execution_count": 31,
   "metadata": {
    "colab": {
     "base_uri": "https://localhost:8080/",
     "height": 321
    },
    "collapsed": false,
    "executionInfo": {
     "elapsed": 36,
     "status": "ok",
     "timestamp": 1634367081447,
     "user": {
      "displayName": "",
      "photoUrl": "",
      "userId": ""
     },
     "user_tz": -120
    },
    "id": "0eBbdMw92KdX",
    "jupyter": {
     "outputs_hidden": false
    },
    "outputId": "cfd9a1b6-5ae6-4ba6-fb95-54a97bf1dbe8"
   },
   "outputs": [
    {
     "data": {
      "text/plain": [
       "Text(0.5, 0, 'Kroki')"
      ]
     },
     "execution_count": 31,
     "metadata": {},
     "output_type": "execute_result"
    },
    {
     "data": {
      "image/png": "[encoded data removed]",
      "text/plain": [
       "<Figure size 432x288 with 1 Axes>"
      ]
     },
     "metadata": {
      "needs_background": "light"
     },
     "output_type": "display_data"
    }
   ],
   "source": [
    "fig = plt.figure()\n",
    "ax = fig.add_subplot(1, 1, 1)\n",
    "ax.plot(np.random.randn(1000).cumsum())\n",
    "ticks = ax.set_xticks([0, 250, 500, 750, 1000])\n",
    "labels = ax.set_xticklabels(['one', 'two', 'three', 'four', 'five'], rotation=30, fontsize='small')\n",
    "ax.set_title('Pierwszy wykres matplotlib')\n",
    "ax.set_xlabel('Kroki')"
   ]
  },
  {
   "cell_type": "markdown",
   "metadata": {
    "id": "xv1NJP8c2KdX"
   },
   "source": [
    "Oś $y$ jest modyfikowana dokładnie w ten sam sposób, tylko musisz zamienić `x` na `y` w powyższym kodzie. Klasa osi ma metodę `set`, która umożliwia grupowe ustawianie właściwości wykresu. W poprzednim przykładzie możesz również napisać:"
   ]
  },
  {
   "cell_type": "markdown",
   "metadata": {
    "id": "vB-8BhhL2KdX"
   },
   "source": [
    "```Python\n",
    "        props = {\n",
    "            'title': 'Pierwszy wykres matplotlib',\n",
    "            'xlabel': 'Kroki'\n",
    "        }\n",
    "        ax.set(**props)\n",
    "```"
   ]
  },
  {
   "cell_type": "markdown",
   "metadata": {
    "id": "3jQHeHHw2KdY"
   },
   "source": [
    "Istnieje kilka sposobów wyświetlania legendy wykresu. Najprostszym jest przekazanie argumentu `label` podczas kreślenia wykresów:"
   ]
  },
  {
   "cell_type": "code",
   "execution_count": 32,
   "metadata": {
    "colab": {
     "base_uri": "https://localhost:8080/",
     "height": 283
    },
    "collapsed": false,
    "executionInfo": {
     "elapsed": 464,
     "status": "ok",
     "timestamp": 1634367081882,
     "user": {
      "displayName": "",
      "photoUrl": "",
      "userId": ""
     },
     "user_tz": -120
    },
    "id": "1BhIbmlP2KdY",
    "jupyter": {
     "outputs_hidden": false
    },
    "outputId": "22466909-7139-4dad-bf4c-9a21d42587aa"
   },
   "outputs": [
    {
     "data": {
      "text/plain": [
       "<matplotlib.legend.Legend at 0x1da4acf2130>"
      ]
     },
     "execution_count": 32,
     "metadata": {},
     "output_type": "execute_result"
    },
    {
     "data": {
      "image/png": "[encoded data removed]",
      "text/plain": [
       "<Figure size 432x288 with 1 Axes>"
      ]
     },
     "metadata": {
      "needs_background": "light"
     },
     "output_type": "display_data"
    }
   ],
   "source": [
    "fig = plt.figure(); ax = fig.add_subplot(1, 1, 1)\n",
    "ax.plot(randn(1000).cumsum(), 'k', label='one')\n",
    "ax.plot(randn(1000).cumsum(), 'k--', label='two')\n",
    "ax.plot(randn(1000).cumsum(), 'k.', label='three')\n",
    "ax.legend(loc='best')"
   ]
  },
  {
   "cell_type": "markdown",
   "metadata": {
    "id": "2TBolbnT2KdY"
   },
   "source": [
    "## Zapisywanie rysunków do pliku\n",
    "<div id=\"visual:matplotlib:saving\"></div>\n",
    "\n",
    "Aktywny rysunek można zapisać do pliku za pomocą metody `plt.savefig`. Na przykład, aby zapisać rysunek w formacie SVG, po prostu wpisz:"
   ]
  },
  {
   "cell_type": "markdown",
   "metadata": {
    "id": "7MtSY4qt2KdY"
   },
   "source": [
    "```Python\n",
    "        plt.savefig('figpath.svg')\n",
    "```"
   ]
  },
  {
   "cell_type": "markdown",
   "metadata": {
    "id": "VxEzrZlO2KdY"
   },
   "source": [
    "Typ pliku zależy od rozszerzenia. Istnieje kilka ważnych parametrów: `dpi`, który określa rozdzielczość obrazu (kropki na cal), `bbox_inches`, który może przyciąć białą przestrzeń wokół obrazu. Na przykład, aby zapisać ten sam wykres w formacie PNG w rozdzielczości 400 DPI, wykonuj:"
   ]
  },
  {
   "cell_type": "markdown",
   "metadata": {
    "id": "XmNN6BBx2KdZ"
   },
   "source": [
    "```Python\n",
    "        plt.savefig('figpath.png', dpi=400, bbox_inches='tight')\n",
    "```"
   ]
  },
  {
   "cell_type": "markdown",
   "metadata": {
    "id": "KKMZAk-O2KdZ"
   },
   "source": [
    "Funkcja `savefig` zapisuje nie tylko na dysku. Może zapisać wykres do dowolnego obiektu plikopodobnego, na przykład `BytesIO`:"
   ]
  },
  {
   "cell_type": "markdown",
   "metadata": {
    "id": "YxlAPhgC2KdZ"
   },
   "source": [
    "```Python\n",
    "        from io import BytesIO\n",
    "        buffer = BytesIO()\n",
    "        plt.savefig(buffer)\n",
    "        plot_data = buffer.getvalue()\n",
    "```"
   ]
  },
  {
   "cell_type": "markdown",
   "metadata": {
    "id": "up3IC9tq2Kda",
    "tags": []
   },
   "source": [
    "## Tabela 1 : Metoda `savefig`: parametry\n",
    "\n",
    "\n",
    "<table border=\"1\">\n",
    "<thead>\n",
    "<tr><th align=\"left\">        Parametr        </th> <th align=\"left\">                                                   Opis                                                   </th> </tr>\n",
    "</thead>\n",
    "<tbody>\n",
    "<tr><td align=\"left\">   <code>fname</code>                     </td> <td align=\"left\">   Ciąg znaków zawierający ścieżkę do pliku lub podobnego do pliku obiektu Pythona. Format obrazu zależy od rozszerzenia pliku    </td> </tr>\n",
    "<tr><td align=\"left\">   <code>dpi</code>                       </td> <td align=\"left\">   Rozdzielczość obrazu w punktach na cal. Domyślnie 100                                                             </td> </tr>\n",
    "<tr><td align=\"left\">   <code>facecolor</code>, <code>edgecolor</code>    </td> <td align=\"left\">   Kolor tła obrazu poza wykresem. Domyślny <code>w</code> (белый)                                                           </td> </tr>\n",
    "<tr><td align=\"left\">   <code>format</code>                    </td> <td align=\"left\">  Jawny format pliku                                                                                       </td> </tr>\n",
    "<tr><td align=\"left\">   <code>bbox_inches</code>               </td> <td align=\"left\">   Część rysunku do zapisania. Jeśli podano <code>'tight'</code>, 2 spróbuje przyciąć pustą przestrzeń dookoła           </td> </tr>\n",
    "</tbody>\n",
    "</table>\n",
    "\n",
    "\n",
    "\n",
    "\n",
    "<!-- Local Variables: -->\n",
    "<!-- doconce-chapter-nickname: \"visual\" -->\n",
    "<!-- doconce-section-nickname: \"matplotlib\" -->\n",
    "<!-- End: -->\n"
   ]
  },
  {
   "cell_type": "markdown",
   "metadata": {
    "id": "JuFy8TsK2Kda"
   },
   "source": [
    "\n",
    "# Konstruowanie wykresów z pomocą `pandas` a `seaborn`\n",
    "<div id=\"visual:plt-with-pandas\"></div>\n",
    "\n",
    "Biblioteka `matplotlib` może być dość niskopoziomowym narzędziem. Wykres składa się z podstawowych elementów: wyświetlacza danych (tj. typu wykresu: linia, pasek, prostokąt, punkt rozproszenia, konturu itp.), legendy, tytułu, etykiet i innych adnotacji. W bibliotece `pandas` możemy uzyskać wiele kolumn danych, a także etykiety wierszy i kolumn. Pandas ma wbudowane metody, które ułatwiają renderowanie obiektów `DataFrame` i `Series`. Inną biblioteką do tworzenia wykresów statystycznych jest `seaborn`."
   ]
  },
  {
   "cell_type": "code",
   "execution_count": 34,
   "metadata": {
    "id": "d-of8KHH2Kdb"
   },
   "outputs": [],
   "source": [
    "import numpy as np\n",
    "import  pandas as pd"
   ]
  },
  {
   "cell_type": "markdown",
   "metadata": {
    "id": "uVZBJNsu2Kdc"
   },
   "source": [
    "## Wykresy liniowe\n",
    "<div id=\"visual:plt-with-pandas:line\"></div>\n",
    "\n",
    "Obiekty `Series` i` DataFrame` mają metodę `plot` do tworzenia podstawowych typów wykresów. Domyślnie `plot()` tworzy wykresy liniowe"
   ]
  },
  {
   "cell_type": "code",
   "execution_count": 35,
   "metadata": {
    "collapsed": false,
    "id": "bGDrT2X12Kdc",
    "jupyter": {
     "outputs_hidden": false
    }
   },
   "outputs": [
    {
     "data": {
      "text/plain": [
       "<AxesSubplot:>"
      ]
     },
     "execution_count": 35,
     "metadata": {},
     "output_type": "execute_result"
    },
    {
     "data": {
      "image/png": "[encoded data removed]",
      "text/plain": [
       "<Figure size 432x288 with 1 Axes>"
      ]
     },
     "metadata": {
      "needs_background": "light"
     },
     "output_type": "display_data"
    }
   ],
   "source": [
    "s = pd.Series(np.random.randn(10).cumsum(), index=np.arange(0, 100, 10))\n",
    "s.plot()"
   ]
  },
  {
   "cell_type": "markdown",
   "metadata": {
    "id": "QQzAGg2X2Kdc"
   },
   "source": [
    "Indeks obiektu `Series` jest przekazywany do ` plot` biblioteki `matplotlib` dla osi $ x $. Jednak to zachowanie można wyłączyć za pomocą parametru `use_index = False`. Tabela [visual:plt-with-pandas:tbl:1](#visual:plt-with-pandas:tbl:1) zawiera pełną listę parametrów funkcji `Series.plot`.\n",
    "\n",
    "Większość metod kreślenia pand akceptuje opcjonalny parametr `ax`, którym może być obiekt`subplot`. Pozwala to na umieszczenie wykresów podrzędnych na siatce.\n",
    "\n",
    "\n"
   ]
  },
  {
   "cell_type": "markdown",
   "metadata": {
    "id": "XYAInQvT2Kdc"
   },
   "source": [
    "## Tabela 2 : Parametry metody `Series.plot` <div id=\"visual:plt-with-pandas:tbl:1\"></div>\n",
    "\n",
    "\n",
    "<table border=\"1\">\n",
    "<thead>\n",
    "<tr><th align=\"left\">  Parametr </th> <th align=\"left\">                                                   Opis                                                   </th> </tr>\n",
    "</thead>\n",
    "<tbody>\n",
    "<tr><td align=\"left\">   <code>label</code>        </td> <td align=\"left\">   Etykieta legendy                                                                                                </td> </tr>\n",
    "<tr><td align=\"left\">   <code>ax</code>           </td> <td align=\"left\">   Obiekt <code>subplot</code> z <code>matplotlib</code>, w który wyświetla się wykres. Jeśli nie jest ustawiony - wyjście trafia do aktywnego podwykresu    </td> </tr>\n",
    "<tr><td align=\"left\">   <code>style</code>        </td> <td align=\"left\">   Ciąg znaków określający styl wykresu (na przykład <code>ko--</code>)                                                                </td> </tr>\n",
    "<tr><td align=\"left\">   <code>alpha</code>        </td> <td align=\"left\">   Przezroczystość wypełniania wykresu (od 0 do 1)                                                                      </td> </tr>\n",
    "<tr><td align=\"left\">   <code>kind</code>         </td> <td align=\"left\">   Typ wykresu. Być może: 'area' , 'bar' , 'barh' , 'density', 'hist' , 'kde' , 'line' , 'pie'                    </td> </tr>\n",
    "<tr><td align=\"left\">   <code>logy</code>         </td> <td align=\"left\">   Czy używać skali logarytmicznej na osi <code>y</code>                                                               </td> </tr>\n",
    "<tr><td align=\"left\">   <code>use_index</code>    </td> <td align=\"left\">   Czy używać obiektu indeksu dla etykiet osi                                                                      </td> </tr>\n",
    "<tr><td align=\"left\">   <code>rot</code>          </td> <td align=\"left\">   Etykiety osi obrotowych                                                                                               </td> </tr>\n",
    "<tr><td align=\"left\">   <code>xticks</code>       </td> <td align=\"left\">   Wartości etykiety osi <code>x</code>                                                                                       </td> </tr>\n",
    "<tr><td align=\"left\">   <code>yticks</code>       </td> <td align=\"left\">   Wartości etykiety osi <code>y</code>                                                                                       </td> </tr>\n",
    "<tr><td align=\"left\">   <code>xlim</code>         </td> <td align=\"left\">   Granice osi <code>x</code> (na przykład, <code>[0, 10]</code>)                                                                         </td> </tr>\n",
    "<tr><td align=\"left\">   <code>ylim</code>         </td> <td align=\"left\">   Granice osi <code>y</code>                                                                                               </td> </tr>\n",
    "<tr><td align=\"left\">   <code>grid</code>         </td> <td align=\"left\">   Czy wyświetlać siatkę wzdłuż osi (domyślnie włączone)                                                              </td> </tr>\n",
    "</tbody>\n",
    "</table>\n"
   ]
  },
  {
   "cell_type": "markdown",
   "metadata": {
    "id": "CoBVS-WP2Kdd"
   },
   "source": [
    "Metoda `plot` obiektu `DataFrame` wyświetla wykres dla każdej kolumny danych jako linię na tym samym wykresie podrzędnym, tworząc automatycznie legendę:"
   ]
  },
  {
   "cell_type": "code",
   "execution_count": 36,
   "metadata": {
    "collapsed": false,
    "id": "CY0hDtkQ2Kdd",
    "jupyter": {
     "outputs_hidden": false
    }
   },
   "outputs": [],
   "source": [
    "df = pd.DataFrame(np.random.randn(10, 4).cumsum(0), columns=['A', 'B', 'C', 'D'], index=np.arange(0, 100, 10))"
   ]
  },
  {
   "cell_type": "code",
   "execution_count": 37,
   "metadata": {
    "collapsed": false,
    "id": "d71p0nJ_2Kde",
    "jupyter": {
     "outputs_hidden": false
    }
   },
   "outputs": [
    {
     "data": {
      "text/plain": [
       "<AxesSubplot:>"
      ]
     },
     "execution_count": 37,
     "metadata": {},
     "output_type": "execute_result"
    },
    {
     "data": {
      "image/png": "[encoded data removed]",
      "text/plain": [
       "<Figure size 432x288 with 1 Axes>"
      ]
     },
     "metadata": {
      "needs_background": "light"
     },
     "output_type": "display_data"
    }
   ],
   "source": [
    "df.plot()"
   ]
  },
  {
   "cell_type": "markdown",
   "metadata": {
    "id": "HthgiYVt2Kde"
   },
   "source": [
    "Atrybut plot zawiera „rodzinę” metod dla różnych typów wykresów. Na przykład `df.plot()` jest równoważne `df.plot.line()`.\n",
    "\n",
    "W ramce „DataFrame” znajduje się kilka parametrów, które zapewniają pewną elastyczność podczas obsługi kolumn. Na przykład, jeśli umieścisz je wszystkie na jednym wykresie podrzędnym lub stworzysz osobne. W tabeli [visual:plt-with-pandas:tbl:2](#visual:plt-with-pandas:tbl:2) takie parametry są prezentowane.\n"
   ]
  },
  {
   "cell_type": "markdown",
   "metadata": {
    "id": "KcU1zR7O2Kde"
   },
   "source": [
    "## Tabela 3 : Specyficzne dla `DataFrame` parametry `plot` <div id=\"visual:plt-with-pandas:tbl:2\"></div>\n",
    "\n",
    "\n",
    "<table border=\"1\">\n",
    "<thead>\n",
    "<tr><th align=\"left\">   Parametr   </th> <th align=\"left\">                                   Opis                                   </th> </tr>\n",
    "</thead>\n",
    "<tbody>\n",
    "<tr><td align=\"left\">   <code>subplots</code>        </td> <td align=\"left\">   Czy rysować każdą kolumnę <code>DataFrame</code> w osobnym podwykresie                     </td> </tr>\n",
    "<tr><td align=\"left\">   <code>sharex</code>          </td> <td align=\"left\">   Jeśli <code>subplots=True</code>, czy używać tej samej osi <code>x</code>, łącząc etykiety osi    </td> </tr>\n",
    "<tr><td align=\"left\">   <code>sharey</code>          </td> <td align=\"left\">   Jeśli <code>subplots=True</code>, czy używać tej samej osi <code>y</code>                        </td> </tr>\n",
    "<tr><td align=\"left\">   <code>figsize</code>         </td> <td align=\"left\">   Rozmiar obrazu do utworzenia jako krotki                                        </td> </tr>\n",
    "<tr><td align=\"left\">   <code>title</code>           </td> <td align=\"left\">   Tytuł obrazu jako ciąg znaków                                                  </td> </tr>\n",
    "<tr><td align=\"left\">   <code>legend</code>          </td> <td align=\"left\">  Czy dodać legendę do obrazu (domyślnie <code>True</code>)                             </td> </tr>\n",
    "<tr><td align=\"left\">   <code>sort_columns</code>    </td> <td align=\"left\">   Czy wyświetlać kolumny alfabetycznie                                      </td> </tr>\n",
    "</tbody>\n",
    "</table>"
   ]
  },
  {
   "cell_type": "markdown",
   "metadata": {
    "id": "LQkFVmeg2Kdf"
   },
   "source": [
    "## Wykresy kolumnowe\n",
    "<div id=\"visual:plt-with-pandas:bar\"></div>\n",
    "\n",
    "Metody `plot.bar()` i `plot.barh()` kreślą w pionie i\n",
    "poziome wykresy słupkowe. W tym przypadku indeksy obiektów `Series` i`DataFrame` jako etykiety na osi `x` (`bar`) lub `y` (`barh`)."
   ]
  },
  {
   "cell_type": "code",
   "execution_count": 38,
   "metadata": {
    "collapsed": false,
    "id": "gk5rJo692Kdf",
    "jupyter": {
     "outputs_hidden": false
    }
   },
   "outputs": [
    {
     "data": {
      "text/plain": [
       "<AxesSubplot:>"
      ]
     },
     "execution_count": 38,
     "metadata": {},
     "output_type": "execute_result"
    },
    {
     "data": {
      "image/png": "[encoded data removed]",
      "text/plain": [
       "<Figure size 432x288 with 2 Axes>"
      ]
     },
     "metadata": {
      "needs_background": "light"
     },
     "output_type": "display_data"
    }
   ],
   "source": [
    "fig, axes = plt.subplots(2, 1)\n",
    "data = pd.Series(np.random.rand(16), index=list('abcdefghijklmnop'))\n",
    "data.plot.bar(ax=axes[0], color='k', alpha=0.7)\n",
    "data.plot.barh(ax=axes[1], color='k', alpha=0.7)"
   ]
  },
  {
   "cell_type": "markdown",
   "metadata": {
    "id": "9zK1sCH-2Kdg"
   },
   "source": [
    "Parametry `color = 'k'` i` alpha = 0.7` ustawiają kolor wykresu na czarny i częściową przezroczystość dla wypełnienia.\n",
    "\n",
    "W `DataFrame` wykresy słupkowe grupują każdy wiersz wartości w grupę słupków odpowiadających każdej wartości w wierszu:"
   ]
  },
  {
   "cell_type": "code",
   "execution_count": 41,
   "metadata": {
    "colab": {
     "base_uri": "https://localhost:8080/",
     "height": 183
    },
    "collapsed": false,
    "executionInfo": {
     "elapsed": 849,
     "status": "error",
     "timestamp": 1634366887122,
     "user": {
      "displayName": "",
      "photoUrl": "",
      "userId": ""
     },
     "user_tz": -120
    },
    "id": "IRvo6tr62Kdg",
    "jupyter": {
     "outputs_hidden": false
    },
    "outputId": "55579029-f701-47e8-fc00-b4b33353f573"
   },
   "outputs": [],
   "source": [
    "df = pd.DataFrame(np.random.rand(6, 4), index=['one', 'two', 'three', 'four', 'five', 'six'], columns=pd.Index(['A', 'B', 'C', 'D'], name='Genus'))"
   ]
  },
  {
   "cell_type": "code",
   "execution_count": 42,
   "metadata": {
    "collapsed": false,
    "id": "CPthzbjB2Kdh",
    "jupyter": {
     "outputs_hidden": false
    }
   },
   "outputs": [
    {
     "data": {
      "text/html": [
       "<div>\n",
       "<style scoped>\n",
       "    .dataframe tbody tr th:only-of-type {\n",
       "        vertical-align: middle;\n",
       "    }\n",
       "\n",
       "    .dataframe tbody tr th {\n",
       "        vertical-align: top;\n",
       "    }\n",
       "\n",
       "    .dataframe thead th {\n",
       "        text-align: right;\n",
       "    }\n",
       "</style>\n",
       "<table border=\"1\" class=\"dataframe\">\n",
       "  <thead>\n",
       "    <tr style=\"text-align: right;\">\n",
       "      <th>Genus</th>\n",
       "      <th>A</th>\n",
       "      <th>B</th>\n",
       "      <th>C</th>\n",
       "      <th>D</th>\n",
       "    </tr>\n",
       "  </thead>\n",
       "  <tbody>\n",
       "    <tr>\n",
       "      <th>one</th>\n",
       "      <td>0.060548</td>\n",
       "      <td>0.221787</td>\n",
       "      <td>0.190320</td>\n",
       "      <td>0.080174</td>\n",
       "    </tr>\n",
       "    <tr>\n",
       "      <th>two</th>\n",
       "      <td>0.109602</td>\n",
       "      <td>0.556449</td>\n",
       "      <td>0.050872</td>\n",
       "      <td>0.078976</td>\n",
       "    </tr>\n",
       "    <tr>\n",
       "      <th>three</th>\n",
       "      <td>0.226887</td>\n",
       "      <td>0.468124</td>\n",
       "      <td>0.309990</td>\n",
       "      <td>0.964131</td>\n",
       "    </tr>\n",
       "    <tr>\n",
       "      <th>four</th>\n",
       "      <td>0.635746</td>\n",
       "      <td>0.618987</td>\n",
       "      <td>0.279542</td>\n",
       "      <td>0.891694</td>\n",
       "    </tr>\n",
       "    <tr>\n",
       "      <th>five</th>\n",
       "      <td>0.807879</td>\n",
       "      <td>0.486794</td>\n",
       "      <td>0.377033</td>\n",
       "      <td>0.689685</td>\n",
       "    </tr>\n",
       "    <tr>\n",
       "      <th>six</th>\n",
       "      <td>0.583904</td>\n",
       "      <td>0.015346</td>\n",
       "      <td>0.707747</td>\n",
       "      <td>0.008571</td>\n",
       "    </tr>\n",
       "  </tbody>\n",
       "</table>\n",
       "</div>"
      ],
      "text/plain": [
       "Genus         A         B         C         D\n",
       "one    0.060548  0.221787  0.190320  0.080174\n",
       "two    0.109602  0.556449  0.050872  0.078976\n",
       "three  0.226887  0.468124  0.309990  0.964131\n",
       "four   0.635746  0.618987  0.279542  0.891694\n",
       "five   0.807879  0.486794  0.377033  0.689685\n",
       "six    0.583904  0.015346  0.707747  0.008571"
      ]
     },
     "execution_count": 42,
     "metadata": {},
     "output_type": "execute_result"
    }
   ],
   "source": [
    "df"
   ]
  },
  {
   "cell_type": "code",
   "execution_count": 43,
   "metadata": {
    "collapsed": false,
    "id": "Ti9DgBSd2Kdh",
    "jupyter": {
     "outputs_hidden": false
    }
   },
   "outputs": [
    {
     "data": {
      "text/plain": [
       "<AxesSubplot:>"
      ]
     },
     "execution_count": 43,
     "metadata": {},
     "output_type": "execute_result"
    },
    {
     "data": {
      "image/png": "[encoded data removed]",
      "text/plain": [
       "<Figure size 432x288 with 1 Axes>"
      ]
     },
     "metadata": {
      "needs_background": "light"
     },
     "output_type": "display_data"
    }
   ],
   "source": [
    "df.plot.bar()"
   ]
  },
  {
   "cell_type": "markdown",
   "metadata": {
    "id": "NkUwnx0g2Kdh"
   },
   "source": [
    "Zauważ, że nazwa kolumny `'Genus'` jest używana jako tytuł legendy. Aby utworzyć skumulowane wykresy słupkowe, `DataFrame` jest ustawiane na `stacked = True`, co powoduje grupowanie wartości w każdym wierszu"
   ]
  },
  {
   "cell_type": "code",
   "execution_count": 44,
   "metadata": {
    "collapsed": false,
    "id": "RDDnO-Ho2Kdi",
    "jupyter": {
     "outputs_hidden": false
    }
   },
   "outputs": [
    {
     "data": {
      "text/plain": [
       "<AxesSubplot:>"
      ]
     },
     "execution_count": 44,
     "metadata": {},
     "output_type": "execute_result"
    },
    {
     "data": {
      "image/png": "[encoded data removed]",
      "text/plain": [
       "<Figure size 432x288 with 1 Axes>"
      ]
     },
     "metadata": {
      "needs_background": "light"
     },
     "output_type": "display_data"
    }
   ],
   "source": [
    "df.plot.barh(stacked=True, alpha=0.5)"
   ]
  },
  {
   "cell_type": "markdown",
   "metadata": {
    "id": "u-IlZdwI2Kdi"
   },
   "source": [
    "Załóżmy, że mamy zestaw danych z rachunkami i napiwkami w restauracji i chcemy zbudować skumulowany wykres słupkowy pokazujący procent punktów danych dla każdej wielkości grupy każdego dnia. Załaduj dane z pliku\n",
    "[tips.csv](tips.csv.txt) i stwórz podsumowanie według dnia i wielkości imprezy\n",
    "(Liczba osób):"
   ]
  },
  {
   "cell_type": "code",
   "execution_count": 47,
   "metadata": {
    "collapsed": false,
    "id": "x3-Lea9L2Kdi",
    "jupyter": {
     "outputs_hidden": false
    }
   },
   "outputs": [],
   "source": [
    "tips = pd.read_csv('tips.csv')"
   ]
  },
  {
   "cell_type": "code",
   "execution_count": 48,
   "metadata": {
    "collapsed": false,
    "id": "n4iU3Pwp2Kdi",
    "jupyter": {
     "outputs_hidden": false
    }
   },
   "outputs": [
    {
     "data": {
      "text/html": [
       "<div>\n",
       "<style scoped>\n",
       "    .dataframe tbody tr th:only-of-type {\n",
       "        vertical-align: middle;\n",
       "    }\n",
       "\n",
       "    .dataframe tbody tr th {\n",
       "        vertical-align: top;\n",
       "    }\n",
       "\n",
       "    .dataframe thead th {\n",
       "        text-align: right;\n",
       "    }\n",
       "</style>\n",
       "<table border=\"1\" class=\"dataframe\">\n",
       "  <thead>\n",
       "    <tr style=\"text-align: right;\">\n",
       "      <th></th>\n",
       "      <th>total_bill</th>\n",
       "      <th>tip</th>\n",
       "      <th>sex</th>\n",
       "      <th>smoker</th>\n",
       "      <th>day</th>\n",
       "      <th>time</th>\n",
       "      <th>size</th>\n",
       "    </tr>\n",
       "  </thead>\n",
       "  <tbody>\n",
       "    <tr>\n",
       "      <th>0</th>\n",
       "      <td>16.99</td>\n",
       "      <td>1.01</td>\n",
       "      <td>Female</td>\n",
       "      <td>No</td>\n",
       "      <td>Sun</td>\n",
       "      <td>Dinner</td>\n",
       "      <td>2</td>\n",
       "    </tr>\n",
       "    <tr>\n",
       "      <th>1</th>\n",
       "      <td>10.34</td>\n",
       "      <td>1.66</td>\n",
       "      <td>Male</td>\n",
       "      <td>No</td>\n",
       "      <td>Sun</td>\n",
       "      <td>Dinner</td>\n",
       "      <td>3</td>\n",
       "    </tr>\n",
       "    <tr>\n",
       "      <th>2</th>\n",
       "      <td>21.01</td>\n",
       "      <td>3.50</td>\n",
       "      <td>Male</td>\n",
       "      <td>No</td>\n",
       "      <td>Sun</td>\n",
       "      <td>Dinner</td>\n",
       "      <td>3</td>\n",
       "    </tr>\n",
       "    <tr>\n",
       "      <th>3</th>\n",
       "      <td>23.68</td>\n",
       "      <td>3.31</td>\n",
       "      <td>Male</td>\n",
       "      <td>No</td>\n",
       "      <td>Sun</td>\n",
       "      <td>Dinner</td>\n",
       "      <td>2</td>\n",
       "    </tr>\n",
       "    <tr>\n",
       "      <th>4</th>\n",
       "      <td>24.59</td>\n",
       "      <td>3.61</td>\n",
       "      <td>Female</td>\n",
       "      <td>No</td>\n",
       "      <td>Sun</td>\n",
       "      <td>Dinner</td>\n",
       "      <td>4</td>\n",
       "    </tr>\n",
       "  </tbody>\n",
       "</table>\n",
       "</div>"
      ],
      "text/plain": [
       "   total_bill   tip     sex smoker  day    time  size\n",
       "0       16.99  1.01  Female     No  Sun  Dinner     2\n",
       "1       10.34  1.66    Male     No  Sun  Dinner     3\n",
       "2       21.01  3.50    Male     No  Sun  Dinner     3\n",
       "3       23.68  3.31    Male     No  Sun  Dinner     2\n",
       "4       24.59  3.61  Female     No  Sun  Dinner     4"
      ]
     },
     "execution_count": 48,
     "metadata": {},
     "output_type": "execute_result"
    }
   ],
   "source": [
    "tips.head()"
   ]
  },
  {
   "cell_type": "code",
   "execution_count": 49,
   "metadata": {
    "collapsed": false,
    "id": "Ro7pBtPK2Kdj",
    "jupyter": {
     "outputs_hidden": false
    }
   },
   "outputs": [],
   "source": [
    "party_counts = pd.crosstab(tips['day'], tips['size'])"
   ]
  },
  {
   "cell_type": "code",
   "execution_count": 50,
   "metadata": {
    "collapsed": false,
    "id": "UX_nWOLz2Kdj",
    "jupyter": {
     "outputs_hidden": false
    }
   },
   "outputs": [
    {
     "data": {
      "text/html": [
       "<div>\n",
       "<style scoped>\n",
       "    .dataframe tbody tr th:only-of-type {\n",
       "        vertical-align: middle;\n",
       "    }\n",
       "\n",
       "    .dataframe tbody tr th {\n",
       "        vertical-align: top;\n",
       "    }\n",
       "\n",
       "    .dataframe thead th {\n",
       "        text-align: right;\n",
       "    }\n",
       "</style>\n",
       "<table border=\"1\" class=\"dataframe\">\n",
       "  <thead>\n",
       "    <tr style=\"text-align: right;\">\n",
       "      <th>size</th>\n",
       "      <th>1</th>\n",
       "      <th>2</th>\n",
       "      <th>3</th>\n",
       "      <th>4</th>\n",
       "      <th>5</th>\n",
       "      <th>6</th>\n",
       "    </tr>\n",
       "    <tr>\n",
       "      <th>day</th>\n",
       "      <th></th>\n",
       "      <th></th>\n",
       "      <th></th>\n",
       "      <th></th>\n",
       "      <th></th>\n",
       "      <th></th>\n",
       "    </tr>\n",
       "  </thead>\n",
       "  <tbody>\n",
       "    <tr>\n",
       "      <th>Fri</th>\n",
       "      <td>1</td>\n",
       "      <td>16</td>\n",
       "      <td>1</td>\n",
       "      <td>1</td>\n",
       "      <td>0</td>\n",
       "      <td>0</td>\n",
       "    </tr>\n",
       "    <tr>\n",
       "      <th>Sat</th>\n",
       "      <td>2</td>\n",
       "      <td>53</td>\n",
       "      <td>18</td>\n",
       "      <td>13</td>\n",
       "      <td>1</td>\n",
       "      <td>0</td>\n",
       "    </tr>\n",
       "    <tr>\n",
       "      <th>Sun</th>\n",
       "      <td>0</td>\n",
       "      <td>39</td>\n",
       "      <td>15</td>\n",
       "      <td>18</td>\n",
       "      <td>3</td>\n",
       "      <td>1</td>\n",
       "    </tr>\n",
       "    <tr>\n",
       "      <th>Thur</th>\n",
       "      <td>1</td>\n",
       "      <td>48</td>\n",
       "      <td>4</td>\n",
       "      <td>5</td>\n",
       "      <td>1</td>\n",
       "      <td>3</td>\n",
       "    </tr>\n",
       "  </tbody>\n",
       "</table>\n",
       "</div>"
      ],
      "text/plain": [
       "size  1   2   3   4  5  6\n",
       "day                      \n",
       "Fri   1  16   1   1  0  0\n",
       "Sat   2  53  18  13  1  0\n",
       "Sun   0  39  15  18  3  1\n",
       "Thur  1  48   4   5  1  3"
      ]
     },
     "execution_count": 50,
     "metadata": {},
     "output_type": "execute_result"
    }
   ],
   "source": [
    "party_counts"
   ]
  },
  {
   "cell_type": "code",
   "execution_count": 51,
   "metadata": {
    "collapsed": false,
    "id": "zDNaWuyU2Kdj",
    "jupyter": {
     "outputs_hidden": false
    }
   },
   "outputs": [],
   "source": [
    "party_counts = party_counts.loc[:, 2:5]"
   ]
  },
  {
   "cell_type": "markdown",
   "metadata": {
    "id": "EpPQvLHU2Kdj"
   },
   "source": [
    "Teraz znormalizujmy dane tak, aby suma w każdym wierszu wynosiła $1$ i zbudujmy wykres słupkowy:"
   ]
  },
  {
   "cell_type": "code",
   "execution_count": 52,
   "metadata": {
    "collapsed": false,
    "id": "tCzoNxs42Kdj",
    "jupyter": {
     "outputs_hidden": false
    }
   },
   "outputs": [],
   "source": [
    "party_pcts = party_counts.div(party_counts.sum(1), axis=0)"
   ]
  },
  {
   "cell_type": "code",
   "execution_count": 53,
   "metadata": {
    "collapsed": false,
    "id": "bSEt9y0Z2Kdk",
    "jupyter": {
     "outputs_hidden": false
    }
   },
   "outputs": [
    {
     "data": {
      "text/html": [
       "<div>\n",
       "<style scoped>\n",
       "    .dataframe tbody tr th:only-of-type {\n",
       "        vertical-align: middle;\n",
       "    }\n",
       "\n",
       "    .dataframe tbody tr th {\n",
       "        vertical-align: top;\n",
       "    }\n",
       "\n",
       "    .dataframe thead th {\n",
       "        text-align: right;\n",
       "    }\n",
       "</style>\n",
       "<table border=\"1\" class=\"dataframe\">\n",
       "  <thead>\n",
       "    <tr style=\"text-align: right;\">\n",
       "      <th>size</th>\n",
       "      <th>2</th>\n",
       "      <th>3</th>\n",
       "      <th>4</th>\n",
       "      <th>5</th>\n",
       "    </tr>\n",
       "    <tr>\n",
       "      <th>day</th>\n",
       "      <th></th>\n",
       "      <th></th>\n",
       "      <th></th>\n",
       "      <th></th>\n",
       "    </tr>\n",
       "  </thead>\n",
       "  <tbody>\n",
       "    <tr>\n",
       "      <th>Fri</th>\n",
       "      <td>0.888889</td>\n",
       "      <td>0.055556</td>\n",
       "      <td>0.055556</td>\n",
       "      <td>0.000000</td>\n",
       "    </tr>\n",
       "    <tr>\n",
       "      <th>Sat</th>\n",
       "      <td>0.623529</td>\n",
       "      <td>0.211765</td>\n",
       "      <td>0.152941</td>\n",
       "      <td>0.011765</td>\n",
       "    </tr>\n",
       "    <tr>\n",
       "      <th>Sun</th>\n",
       "      <td>0.520000</td>\n",
       "      <td>0.200000</td>\n",
       "      <td>0.240000</td>\n",
       "      <td>0.040000</td>\n",
       "    </tr>\n",
       "    <tr>\n",
       "      <th>Thur</th>\n",
       "      <td>0.827586</td>\n",
       "      <td>0.068966</td>\n",
       "      <td>0.086207</td>\n",
       "      <td>0.017241</td>\n",
       "    </tr>\n",
       "  </tbody>\n",
       "</table>\n",
       "</div>"
      ],
      "text/plain": [
       "size         2         3         4         5\n",
       "day                                         \n",
       "Fri   0.888889  0.055556  0.055556  0.000000\n",
       "Sat   0.623529  0.211765  0.152941  0.011765\n",
       "Sun   0.520000  0.200000  0.240000  0.040000\n",
       "Thur  0.827586  0.068966  0.086207  0.017241"
      ]
     },
     "execution_count": 53,
     "metadata": {},
     "output_type": "execute_result"
    }
   ],
   "source": [
    "party_pcts"
   ]
  },
  {
   "cell_type": "code",
   "execution_count": 54,
   "metadata": {
    "collapsed": false,
    "id": "FxfD0yJr2Kdk",
    "jupyter": {
     "outputs_hidden": false
    }
   },
   "outputs": [
    {
     "data": {
      "text/plain": [
       "<AxesSubplot:xlabel='day'>"
      ]
     },
     "execution_count": 54,
     "metadata": {},
     "output_type": "execute_result"
    },
    {
     "data": {
      "image/png": "[encoded data removed]",
      "text/plain": [
       "<Figure size 432x288 with 1 Axes>"
      ]
     },
     "metadata": {
      "needs_background": "light"
     },
     "output_type": "display_data"
    }
   ],
   "source": [
    "party_pcts.plot.bar()"
   ]
  },
  {
   "cell_type": "markdown",
   "metadata": {
    "id": "Xym2lPQL2Kdk"
   },
   "source": [
    "Widać więc, że liczba uczestników imprezy w tym zestawie wzrasta w weekendy.\n",
    "\n",
    "W przypadku, gdy musisz zagregować lub podsumować dane przed sporządzeniem wykresu, użycie pakietu `seaborn` może znacznie uprościć zadanie. Przyjrzyjmy się procentowi porad dziennie przy użyciu biblioteki `seaborn`:"
   ]
  },
  {
   "cell_type": "code",
   "execution_count": 55,
   "metadata": {
    "collapsed": false,
    "id": "96uFRUfM2Kdk",
    "jupyter": {
     "outputs_hidden": false
    }
   },
   "outputs": [],
   "source": [
    "import seaborn as sns"
   ]
  },
  {
   "cell_type": "code",
   "execution_count": 56,
   "metadata": {
    "collapsed": false,
    "id": "zTVxfc7f2Kdk",
    "jupyter": {
     "outputs_hidden": false
    }
   },
   "outputs": [],
   "source": [
    "tips['tip_pct'] = tips['tip']/(tips['total_bill'] - tips['tip'])"
   ]
  },
  {
   "cell_type": "code",
   "execution_count": 57,
   "metadata": {
    "collapsed": false,
    "id": "Nn5fY09j2Kdl",
    "jupyter": {
     "outputs_hidden": false
    }
   },
   "outputs": [
    {
     "data": {
      "text/html": [
       "<div>\n",
       "<style scoped>\n",
       "    .dataframe tbody tr th:only-of-type {\n",
       "        vertical-align: middle;\n",
       "    }\n",
       "\n",
       "    .dataframe tbody tr th {\n",
       "        vertical-align: top;\n",
       "    }\n",
       "\n",
       "    .dataframe thead th {\n",
       "        text-align: right;\n",
       "    }\n",
       "</style>\n",
       "<table border=\"1\" class=\"dataframe\">\n",
       "  <thead>\n",
       "    <tr style=\"text-align: right;\">\n",
       "      <th></th>\n",
       "      <th>total_bill</th>\n",
       "      <th>tip</th>\n",
       "      <th>sex</th>\n",
       "      <th>smoker</th>\n",
       "      <th>day</th>\n",
       "      <th>time</th>\n",
       "      <th>size</th>\n",
       "      <th>tip_pct</th>\n",
       "    </tr>\n",
       "  </thead>\n",
       "  <tbody>\n",
       "    <tr>\n",
       "      <th>0</th>\n",
       "      <td>16.99</td>\n",
       "      <td>1.01</td>\n",
       "      <td>Female</td>\n",
       "      <td>No</td>\n",
       "      <td>Sun</td>\n",
       "      <td>Dinner</td>\n",
       "      <td>2</td>\n",
       "      <td>0.063204</td>\n",
       "    </tr>\n",
       "    <tr>\n",
       "      <th>1</th>\n",
       "      <td>10.34</td>\n",
       "      <td>1.66</td>\n",
       "      <td>Male</td>\n",
       "      <td>No</td>\n",
       "      <td>Sun</td>\n",
       "      <td>Dinner</td>\n",
       "      <td>3</td>\n",
       "      <td>0.191244</td>\n",
       "    </tr>\n",
       "    <tr>\n",
       "      <th>2</th>\n",
       "      <td>21.01</td>\n",
       "      <td>3.50</td>\n",
       "      <td>Male</td>\n",
       "      <td>No</td>\n",
       "      <td>Sun</td>\n",
       "      <td>Dinner</td>\n",
       "      <td>3</td>\n",
       "      <td>0.199886</td>\n",
       "    </tr>\n",
       "    <tr>\n",
       "      <th>3</th>\n",
       "      <td>23.68</td>\n",
       "      <td>3.31</td>\n",
       "      <td>Male</td>\n",
       "      <td>No</td>\n",
       "      <td>Sun</td>\n",
       "      <td>Dinner</td>\n",
       "      <td>2</td>\n",
       "      <td>0.162494</td>\n",
       "    </tr>\n",
       "    <tr>\n",
       "      <th>4</th>\n",
       "      <td>24.59</td>\n",
       "      <td>3.61</td>\n",
       "      <td>Female</td>\n",
       "      <td>No</td>\n",
       "      <td>Sun</td>\n",
       "      <td>Dinner</td>\n",
       "      <td>4</td>\n",
       "      <td>0.172069</td>\n",
       "    </tr>\n",
       "  </tbody>\n",
       "</table>\n",
       "</div>"
      ],
      "text/plain": [
       "   total_bill   tip     sex smoker  day    time  size   tip_pct\n",
       "0       16.99  1.01  Female     No  Sun  Dinner     2  0.063204\n",
       "1       10.34  1.66    Male     No  Sun  Dinner     3  0.191244\n",
       "2       21.01  3.50    Male     No  Sun  Dinner     3  0.199886\n",
       "3       23.68  3.31    Male     No  Sun  Dinner     2  0.162494\n",
       "4       24.59  3.61  Female     No  Sun  Dinner     4  0.172069"
      ]
     },
     "execution_count": 57,
     "metadata": {},
     "output_type": "execute_result"
    }
   ],
   "source": [
    "tips.head()"
   ]
  },
  {
   "cell_type": "code",
   "execution_count": 58,
   "metadata": {
    "collapsed": false,
    "id": "vUZ8h-vc2Kdl",
    "jupyter": {
     "outputs_hidden": false
    }
   },
   "outputs": [
    {
     "data": {
      "text/plain": [
       "<AxesSubplot:xlabel='tip_pct', ylabel='day'>"
      ]
     },
     "execution_count": 58,
     "metadata": {},
     "output_type": "execute_result"
    },
    {
     "data": {
      "image/png": "[encoded data removed]",
      "text/plain": [
       "<Figure size 432x288 with 1 Axes>"
      ]
     },
     "metadata": {
      "needs_background": "light"
     },
     "output_type": "display_data"
    }
   ],
   "source": [
    "sns.barplot(x='tip_pct', y='day', data=tips, orient='h')"
   ]
  },
  {
   "cell_type": "markdown",
   "metadata": {
    "id": "7LiyfR1_2Kdl"
   },
   "source": [
    "Funkcja `barplot` biblioteki` seaborn` pobiera parametr `data`, którym może być obiekt `DataFrame`. Pozostałe parametry odnoszą się do nazw kolumn. Ponieważ jest kilka obserwacji dziennie, słupki na wykresie reprezentują średnią parametru `tip_pct`. Czarne linie rysowane na słupkach wykresu reprezentują 95-procentowy przedział ufności (można go skonfigurować za pomocą opcjonalnego parametru).\n",
    "\n",
    "Funkcja `barplot` posiada parametr `hue`, który pozwala podzielić wyświetlacz o dodatkową wartość kategoryczną:"
   ]
  },
  {
   "cell_type": "code",
   "execution_count": 59,
   "metadata": {
    "collapsed": false,
    "id": "ZHWm9zdi2Kdl",
    "jupyter": {
     "outputs_hidden": false
    }
   },
   "outputs": [
    {
     "data": {
      "text/plain": [
       "<AxesSubplot:xlabel='tip_pct', ylabel='day'>"
      ]
     },
     "execution_count": 59,
     "metadata": {},
     "output_type": "execute_result"
    },
    {
     "data": {
      "image/png": "[encoded data removed]",
      "text/plain": [
       "<Figure size 432x288 with 1 Axes>"
      ]
     },
     "metadata": {
      "needs_background": "light"
     },
     "output_type": "display_data"
    }
   ],
   "source": [
    "sns.barplot(x='tip_pct', y='day', hue='time', data=tips, orient='h')"
   ]
  },
  {
   "cell_type": "markdown",
   "metadata": {
    "id": "d7YX3HJp2Kdl"
   },
   "source": [
    "## Histogramy i wykresy gęstości rozkładu\n",
    "<div id=\"visual:plt-with-pandas:hist\"></div>\n",
    "\n",
    "*Histogram* to rodzaj wykresu słupkowego, który dyskretnie wyświetla częstotliwość wartości. Utwórzmy histogram procentu całkowitego konta przy użyciu metody `plot.hist` obiektu` Series`:"
   ]
  },
  {
   "cell_type": "code",
   "execution_count": 60,
   "metadata": {
    "collapsed": false,
    "id": "TSQzZEP12Kdm",
    "jupyter": {
     "outputs_hidden": false
    }
   },
   "outputs": [
    {
     "data": {
      "text/plain": [
       "<AxesSubplot:ylabel='Frequency'>"
      ]
     },
     "execution_count": 60,
     "metadata": {},
     "output_type": "execute_result"
    },
    {
     "data": {
      "image/png": "[encoded data removed]",
      "text/plain": [
       "<Figure size 432x288 with 1 Axes>"
      ]
     },
     "metadata": {
      "needs_background": "light"
     },
     "output_type": "display_data"
    }
   ],
   "source": [
    "tips['tip_pct'].plot.hist(bins=50)"
   ]
  },
  {
   "cell_type": "markdown",
   "metadata": {
    "id": "t-MuO6hp2Kdm"
   },
   "source": [
    "Powiązany typ wykresu histogramu to *wykres gęstości*, który jest generowany przez obliczenie szacunkowego ciągłego rozkładu prawdopodobieństwa, który zostałby wygenerowany na podstawie obserwowanych danych.\n",
    "Zwykła procedura polega na aproksymacji tego rozkładu jako mieszaniny „rdzeń”, czyli prostszych rozkładów, takich jak rozkład normalny. Zatem wykresy pod wykresami gęstości mogą być również rozumiane jako wykresy oszacowania gęstości jądra (*K* ernel *D* ensity *E* stimate). Funkcje `plot.kde` i`plot.density` kreślą gęstość za pomocą podejścia KDE:"
   ]
  },
  {
   "cell_type": "code",
   "execution_count": 61,
   "metadata": {
    "collapsed": false,
    "id": "EWWchs1Q2Kdm",
    "jupyter": {
     "outputs_hidden": false
    }
   },
   "outputs": [
    {
     "data": {
      "text/plain": [
       "<AxesSubplot:ylabel='Density'>"
      ]
     },
     "execution_count": 61,
     "metadata": {},
     "output_type": "execute_result"
    },
    {
     "data": {
      "image/png": "[encoded data removed]",
      "text/plain": [
       "<Figure size 432x288 with 1 Axes>"
      ]
     },
     "metadata": {
      "needs_background": "light"
     },
     "output_type": "display_data"
    }
   ],
   "source": [
    "tips['tip_pct'].plot.kde()"
   ]
  },
  {
   "cell_type": "markdown",
   "metadata": {
    "id": "3d8e7Hn02Kdm"
   },
   "source": [
    "Biblioteka `seaborn` ułatwia tworzenie histogramów i wykresów gęstości za pomocą metody `distplot`, która pozwala na jednoczesne wykreślenie histogramu i ciągłej oceny gęstości. Jako przykład rozważ rozkład bimodalny składający się z dwóch różnych standardowych rozkładów normalnych:"
   ]
  },
  {
   "cell_type": "code",
   "execution_count": null,
   "metadata": {
    "collapsed": false,
    "id": "Ayp6SIYT2Kdm",
    "jupyter": {
     "outputs_hidden": false
    }
   },
   "outputs": [],
   "source": [
    "comp1 = np.random.normal(0, 1, size=200)\n",
    "comp2 = np.random.normal(10, 2, size=200)\n",
    "values = pd.Series(np.concatenate([comp1, comp2]))"
   ]
  },
  {
   "cell_type": "code",
   "execution_count": null,
   "metadata": {
    "collapsed": false,
    "id": "GCOR9djM2Kdm",
    "jupyter": {
     "outputs_hidden": false
    }
   },
   "outputs": [],
   "source": [
    "sns.distplot(values, bins=100, color='k')"
   ]
  },
  {
   "cell_type": "markdown",
   "metadata": {
    "id": "iihhcu9G2Kdn"
   },
   "source": [
    "## Wykresy punktowe lub wykresy bitowe\n",
    "<div id=\"visual:plt-with-pandas:scatter\"></div>\n",
    "\n",
    "Wykresy rozrzutu są przydatne do badania relacji między dwiema jednowymiarowymi seriami danych. Na przykład załadujmy zbiór danych z pliku\n",
    "[macrodata.csv](macrodata.csv) projektu\n",
    "[Statmodels](https://www.statsmodels.org/stable/index.html). Wybierzmy zmienne i obliczmy „różnice logarytmiczne”:"
   ]
  },
  {
   "cell_type": "code",
   "execution_count": 62,
   "metadata": {
    "collapsed": false,
    "id": "PMiQLL1p2Kdn",
    "jupyter": {
     "outputs_hidden": false
    }
   },
   "outputs": [],
   "source": [
    "macro = pd.read_csv('macrodata.csv')"
   ]
  },
  {
   "cell_type": "code",
   "execution_count": 63,
   "metadata": {
    "collapsed": false,
    "id": "85HweFQW2Kdn",
    "jupyter": {
     "outputs_hidden": false
    }
   },
   "outputs": [],
   "source": [
    "data = macro[['cpi', 'm1', 'tbilrate', 'unemp']]"
   ]
  },
  {
   "cell_type": "code",
   "execution_count": 65,
   "metadata": {
    "collapsed": false,
    "id": "f7zh94Z12Kdn",
    "jupyter": {
     "outputs_hidden": false
    }
   },
   "outputs": [],
   "source": [
    "trans_data = np.log(data).diff().dropna()"
   ]
  },
  {
   "cell_type": "code",
   "execution_count": 66,
   "metadata": {
    "collapsed": false,
    "id": "mYye6eqR2Kdo",
    "jupyter": {
     "outputs_hidden": false
    }
   },
   "outputs": [
    {
     "data": {
      "text/html": [
       "<div>\n",
       "<style scoped>\n",
       "    .dataframe tbody tr th:only-of-type {\n",
       "        vertical-align: middle;\n",
       "    }\n",
       "\n",
       "    .dataframe tbody tr th {\n",
       "        vertical-align: top;\n",
       "    }\n",
       "\n",
       "    .dataframe thead th {\n",
       "        text-align: right;\n",
       "    }\n",
       "</style>\n",
       "<table border=\"1\" class=\"dataframe\">\n",
       "  <thead>\n",
       "    <tr style=\"text-align: right;\">\n",
       "      <th></th>\n",
       "      <th>cpi</th>\n",
       "      <th>m1</th>\n",
       "      <th>tbilrate</th>\n",
       "      <th>unemp</th>\n",
       "    </tr>\n",
       "  </thead>\n",
       "  <tbody>\n",
       "    <tr>\n",
       "      <th>198</th>\n",
       "      <td>-0.007904</td>\n",
       "      <td>0.045361</td>\n",
       "      <td>-0.396881</td>\n",
       "      <td>0.105361</td>\n",
       "    </tr>\n",
       "    <tr>\n",
       "      <th>199</th>\n",
       "      <td>-0.021979</td>\n",
       "      <td>0.066753</td>\n",
       "      <td>-2.277267</td>\n",
       "      <td>0.139762</td>\n",
       "    </tr>\n",
       "    <tr>\n",
       "      <th>200</th>\n",
       "      <td>0.002340</td>\n",
       "      <td>0.010286</td>\n",
       "      <td>0.606136</td>\n",
       "      <td>0.160343</td>\n",
       "    </tr>\n",
       "    <tr>\n",
       "      <th>201</th>\n",
       "      <td>0.008419</td>\n",
       "      <td>0.037461</td>\n",
       "      <td>-0.200671</td>\n",
       "      <td>0.127339</td>\n",
       "    </tr>\n",
       "    <tr>\n",
       "      <th>202</th>\n",
       "      <td>0.008894</td>\n",
       "      <td>0.012202</td>\n",
       "      <td>-0.405465</td>\n",
       "      <td>0.042560</td>\n",
       "    </tr>\n",
       "  </tbody>\n",
       "</table>\n",
       "</div>"
      ],
      "text/plain": [
       "          cpi        m1  tbilrate     unemp\n",
       "198 -0.007904  0.045361 -0.396881  0.105361\n",
       "199 -0.021979  0.066753 -2.277267  0.139762\n",
       "200  0.002340  0.010286  0.606136  0.160343\n",
       "201  0.008419  0.037461 -0.200671  0.127339\n",
       "202  0.008894  0.012202 -0.405465  0.042560"
      ]
     },
     "execution_count": 66,
     "metadata": {},
     "output_type": "execute_result"
    }
   ],
   "source": [
    "trans_data[-5:]"
   ]
  },
  {
   "cell_type": "markdown",
   "metadata": {
    "id": "hSzAVOBh2Kdo"
   },
   "source": [
    "Teraz użyjmy funkcji `regplot` biblioteki `seaborn`, która kreśli wykresy punktowe i oferuje wykres regresji liniowej:"
   ]
  },
  {
   "cell_type": "code",
   "execution_count": 70,
   "metadata": {
    "collapsed": false,
    "id": "mPeU7FBA2Kdo",
    "jupyter": {
     "outputs_hidden": false
    }
   },
   "outputs": [
    {
     "data": {
      "text/plain": [
       "Text(0.5, 1.0, 'Zależność $\\\\log$ m1 od $\\\\log$ unemp')"
      ]
     },
     "execution_count": 70,
     "metadata": {},
     "output_type": "execute_result"
    },
    {
     "data": {
      "image/png": "[encoded data removed]",
      "text/plain": [
       "<Figure size 432x288 with 1 Axes>"
      ]
     },
     "metadata": {
      "needs_background": "light"
     },
     "output_type": "display_data"
    }
   ],
   "source": [
    "sns.regplot(x='m1', y='unemp', data=trans_data)\n",
    "plt.title('Zależność $\\log$ {} od $\\log$ {}'.format('m1', 'unemp'))"
   ]
  },
  {
   "cell_type": "markdown",
   "metadata": {
    "id": "vDCPMj5F2Kdo"
   },
   "source": [
    "Podczas analizy danych przydatna jest możliwość przeglądania wszystkich wykresów rozrzutu w grupie zmiennych, tj. *wykresy sparowane* lub *macierz wykresów rozrzutu*. Biblioteka `seaborn` ma do tego wygodną funkcję `pairplot`, która w szczególności obsługuje umieszczanie histogramów lub oszacowań gęstości każdej zmiennej wzdłuż przekątnej:"
   ]
  },
  {
   "cell_type": "code",
   "execution_count": 71,
   "metadata": {
    "collapsed": false,
    "id": "HszjZamz2Kdo",
    "jupyter": {
     "outputs_hidden": false
    }
   },
   "outputs": [
    {
     "data": {
      "text/plain": [
       "<seaborn.axisgrid.PairGrid at 0x1da573e8df0>"
      ]
     },
     "execution_count": 71,
     "metadata": {},
     "output_type": "execute_result"
    },
    {
     "data": {
      "image/png": "[encoded data removed]",
      "text/plain": [
       "<Figure size 720x720 with 20 Axes>"
      ]
     },
     "metadata": {
      "needs_background": "light"
     },
     "output_type": "display_data"
    }
   ],
   "source": [
    "sns.pairplot(trans_data, diag_kind='kde', plot_kws={'alpha': 0.2})"
   ]
  },
  {
   "cell_type": "markdown",
   "metadata": {
    "id": "kfflAD7M2Kdp"
   },
   "source": [
    "## Dane kategoryczne\n",
    "<div id=\"visual:plt-with-pandas:facet-grids\"></div>\n",
    "\n",
    "Jednym ze sposobów wizualizacji danych z wieloma zmiennymi kategorialnymi jest użycie *siatki aspektów*. Biblioteka `seaborn` posiada przydatną funkcję `catplot`, która ułatwia tworzenie siatki faset:"
   ]
  },
  {
   "cell_type": "code",
   "execution_count": 72,
   "metadata": {
    "collapsed": false,
    "id": "QfsVR6P72Kdr",
    "jupyter": {
     "outputs_hidden": false
    }
   },
   "outputs": [
    {
     "data": {
      "text/plain": [
       "<seaborn.axisgrid.FacetGrid at 0x1da4ced9700>"
      ]
     },
     "execution_count": 72,
     "metadata": {},
     "output_type": "execute_result"
    },
    {
     "data": {
      "image/png": "[encoded data removed]",
      "text/plain": [
       "<Figure size 789.625x360 with 2 Axes>"
      ]
     },
     "metadata": {
      "needs_background": "light"
     },
     "output_type": "display_data"
    }
   ],
   "source": [
    "sns.catplot(x='day', y='tip_pct', hue='time', col='smoker', kind='bar', data=tips[tips.tip_pct < 1])"
   ]
  },
  {
   "cell_type": "markdown",
   "metadata": {
    "id": "6uF4pTWk2Kdr"
   },
   "source": [
    "Zamiast wyświetlać różne kolory kolumn wykresu w aspekcie, możemy również rozszerzyć siatkę aspektów, dodając jeden wiersz naraz:"
   ]
  },
  {
   "cell_type": "code",
   "execution_count": 73,
   "metadata": {
    "collapsed": false,
    "id": "NiWvVaGK2Kdr",
    "jupyter": {
     "outputs_hidden": false
    }
   },
   "outputs": [
    {
     "data": {
      "text/plain": [
       "<seaborn.axisgrid.FacetGrid at 0x1da57f2c550>"
      ]
     },
     "execution_count": 73,
     "metadata": {},
     "output_type": "execute_result"
    },
    {
     "data": {
      "image/png": "[encoded data removed]",
      "text/plain": [
       "<Figure size 720x720 with 4 Axes>"
      ]
     },
     "metadata": {
      "needs_background": "light"
     },
     "output_type": "display_data"
    }
   ],
   "source": [
    "sns.catplot(x='day', y='tip_pct', row='time', col='smoker', kind='bar', data=tips[tips.tip_pct < 1])"
   ]
  },
  {
   "cell_type": "markdown",
   "metadata": {
    "id": "auu6tIav2Kds"
   },
   "source": [
    "Funkcja `catplot` obsługuje inne rodzaje wykresów, które mogą być przydatne. Na przykład wykresy blokowe przedstawiające medianę, kwartyle i wartości odstające:"
   ]
  },
  {
   "cell_type": "code",
   "execution_count": 74,
   "metadata": {
    "collapsed": false,
    "id": "txv-73Ck2Kdt",
    "jupyter": {
     "outputs_hidden": false
    }
   },
   "outputs": [
    {
     "data": {
      "text/plain": [
       "<seaborn.axisgrid.FacetGrid at 0x1da5806fe50>"
      ]
     },
     "execution_count": 74,
     "metadata": {},
     "output_type": "execute_result"
    },
    {
     "data": {
      "image/png": "[encoded data removed]",
      "text/plain": [
       "<Figure size 360x360 with 1 Axes>"
      ]
     },
     "metadata": {
      "needs_background": "light"
     },
     "output_type": "display_data"
    }
   ],
   "source": [
    "sns.catplot(x='tip_pct', y='day', kind='box', data=tips[tips.tip_pct < 0.5])"
   ]
  },
  {
   "cell_type": "markdown",
   "metadata": {
    "id": "OglOq9Ug2Kdt"
   },
   "source": [
    "Możesz tworzyć własne siatki faset,\n",
    "używając bardziej ogólnej klasy `seaborn.FacetGrid` (patrz\n",
    "[dokumentacja seaborn](https://seaborn.pydata.org/)).\n",
    "\n",
    "\n",
    "\n",
    "\n",
    "\n",
    "\n",
    "\n",
    "<!-- Local Variables: -->\n",
    "<!-- doconce-chapter-nickname: \"visual\" -->\n",
    "<!-- doconce-section-nickname: \"plt-with-pandas\" -->\n",
    "<!-- End: -->\n",
    "\n",
    "\n",
    "\n",
    "\n",
    "<!-- Local Variables: -->\n",
    "<!-- doconce-chapter-nickname: \"visual\" -->\n",
    "<!-- End: -->"
   ]
  }
 ],
 "metadata": {
  "colab": {
   "name": "Kopia notatnika visual.ipynb",
   "provenance": [
    {
     "file_id": "https://github.com/slemeshevsky/python-course-ipynb/blob/master/visual.ipynb",
     "timestamp": 1634367150657
    }
   ]
  },
  "kernelspec": {
   "display_name": "Python 3 (ipykernel)",
   "language": "python",
   "name": "python3"
  },
  "language_info": {
   "codemirror_mode": {
    "name": "ipython",
    "version": 3
   },
   "file_extension": ".py",
   "mimetype": "text/x-python",
   "name": "python",
   "nbconvert_exporter": "python",
   "pygments_lexer": "ipython3",
   "version": "3.9.7"
  }
 },
 "nbformat": 4,
 "nbformat_minor": 4
}
